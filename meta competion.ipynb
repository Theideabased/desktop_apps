{
 "cells": [
  {
   "cell_type": "markdown",
   "metadata": {},
   "source": [
    "# META DSN HACKATHON\n",
    "\n"
   ]
  },
  {
   "cell_type": "markdown",
   "metadata": {},
   "source": [
    "## Kenya maternity solution for predicting next health center"
   ]
  },
  {
   "cell_type": "code",
   "execution_count": 1,
   "metadata": {},
   "outputs": [],
   "source": [
    "# importing my libaries\n",
    "import numpy as np\n",
    "import math\n",
    "import pandas as pd\n",
    "from datetime import datetime as dt\n",
    "import matplotlib.pyplot as plt\n",
    "import seaborn as sns\n",
    "from arcgis.gis import GIS\n",
    "gis = GIS(\"home\")\n",
    "import warnings\n",
    "warnings.filterwarnings(\"ignore\")"
   ]
  },
  {
   "cell_type": "code",
   "execution_count": 2,
   "metadata": {},
   "outputs": [
    {
     "data": {
      "text/html": [
       "<div class=\"item_container\" style=\"height: auto; overflow: hidden; border: 1px solid #cfcfcf; border-radius: 2px; background: #f6fafa; line-height: 1.21429em; padding: 10px;\">\n",
       "                    <div class=\"item_left\" style=\"width: 210px; float: left;\">\n",
       "                       <a href='https://www.arcgis.com/home/item.html?id=281c9efb928d427381582e5d71436bfc' target='_blank'>\n",
       "                        <img src='data:image/png;base64,iVBORw0KGgoAAAANSUhEUgAAAMgAAACFCAYAAAAenrcsAAARH0lEQVR4Xu2d53cU5xXG8zfkU/IlOUkOPnbi2I59bBOIk9jBcW/YJrgbV1xwwQbTZKoQYNGL6AJEF4giRJOQhCTU26o31FEDVChqCN+8z13LSGMx2l3Nlhnd3zkDy76LBKt95r33ve1X5KOsia6gBxfE0aiAeMqsatUuC4JH+JX2CV/i5bVp9MG2bApJqtEuCYJH8GmBjPSPo09CcmhGWKF2SRA8glcF0nilk3eHfakXqOV6t3aZJu3KpYDjpTQ1NJ9O5TXR7uRastW09XvNxB02emtzJgWeLOv3vCAYgVcF8s6WLBodkEDPrEyh3Sm1/dbqWjvUeiY9pPyQscrU+lgJYe7RYlofW9nvdZP35tGsQ0X0g4ECaVZi3Z9WRzsSa6i+tVO7LAwjvCqQ94KzaH54CY3fkPELgUTkNNLsw0U07UABr8EX+Wi7jYJiKvq9Ds78rEOFdDq/qd/zQwHf79WgdBq7Lo3CMuq0yz4FxAwh48JjwVi8KhB8AMetT2cRtLbf6Ld2PLdRicKmfBCbuptfoJiiixSaXkf5F670e5072KVMuWkHCll4YZn12mWfAubpt/sL1JVPe9VjwVi8KpCInAb+0GdV9/crQOOVLjqg7t7HbA2/EM9QiVBf82UlzqdWJNNJJUQtOFb2jyjl3c3Xj5ix232tzExc2l1YGDpeFYi3wA4xM6yQ5imf5kiWb+8QgwGzCv8HXGJiGc+wFEhRw1VaFVVOS5RjX1h/VbssCD8zLAUiCI5iGoGEK78Bp13PrUrhmIggeALTCMR+slRAc5TfgBMuQfAEphFISeM1WhdTwQHBIvEbBA9hGoEIgjcQgQiCDiIQQdBBBCIIOohABEEHEYgg6CACEQQdRCCCIaB+B9nRyHRABrZV8KpAwrMb6JFFCfToknOWelOHI6jZQYHbrLBCznqwCl4VCAp85hwpou/VG2ulN3U4UsqZDpW04WwlP7YKXhXIfiWQB+adpQfnx3FlnBFMO1jAtR4Bx0sotbxFuywITmGoQEISa2jK/nyarXYFbzFqYTwtPlFKk3bn0iEfL5cVfB9DBeJ/rISTCaeGFmiXDONcWTMtO32e9qUNvOOMmHGG7pkdSyOVUKKLLmqXBcEpDBWI36FCbhf6WGCidskwNiobFz4LupwMBFoJ3Tkrmu72i9EuCYLTGCoQTwCBfLYzh94PHlgggmAkphMI+lS9sDqFfQxBcDemE8gC5edM2V9AX+4RgXgT+JvjgtJpwtYs7ZKlMJ1A5oUXK3Hk0dMrkmnJyVKqvtyufYngAeAHzjhYyA3rrIzpBFLb3EH+ESXc9f3zXbmc4iB4nuTyFg4MouWplTGdQAC6vKOT4OS9+ZyuMhxYfaac3gvO5sOJFZHl0lTbQ5hSIK3t3ZRd3Ubpla0Djk2wImvOVNC3ofk0McRGc44U801CcD+mFMhw5FzZZfp0Zw7HmBADQnKgL+KnfBPsdOi5bAVEICbiWmcPJZ5vpiR1Xe/q0S77BK9vyOBMB6vscKYVyM0fiXrUL7gE3+F/69PpyeXJtPFslXbJlJhWIDiHR4HOmxsztEuCYBimFQhmF+IsHiPYBMFdmFYgscWXKCjW+ufwgncxrUAEwROIQARBBxGIIOggAhEEHUQggqCDCEQQdBCBCIIOIhBB0EEEIgg6iEAsyvLT57lHWeCpMu2S4AQiEAtyMq+RvtqTR3OPFtO9c2K1y4ITiEAsCJqCf7zDRu9uzeIuk0ZTeamdNsVVcY8yPLYyIhALEpp2gTtcPqSu94ONb8uDTvxzjxTTPLVD7UmxRmHU7RCBGAA6raCpwhp11bZ0aJc9DqoNC+quUnHDNeq8cVO7PGSOZNXTq0FpPCwHzTOwm5RfvK59mSUQgRjAbnUXRSMFzDqxSqmpHhBdUf1VPgCYdaiQFoSX8FwQKyIC6UNC6WVaGVXONrwzHMyoozc3ZdJb6jpokWYFelRdbqetCdXcm+zFNal8+R1ybeTFjZs/0sWrXdR0pYtu9Phe+bQIpA/oFILZIjAfnAF3VJgz7jJpvA2aRKyPrVT+hv3GERRTSWOWJtEzK1PoWWVmjQpIYBPTFdD474XVqdwp80Su7zUBFIH0AdWJrwal08vrnBOI1YEJtfhEGX3309wXtPaZfrCQG/dtP1dNJerGcEntAq4Ahx+7D0xUbaugxLJmWqrMOEwN+2i7jbbEO98IAtYAYkLxJZe1Sw4hAukDtnrM17vgA462L4Fd9Xl1l+9tVI34CnpfwcRq7x5a+yG83zuTapXQaqisqf9sQwQ6Z4YV8dSyJUqgCyNK+q07wjhlDaB/gat9xEQgwqC0tHfzBxm+B0BnS5xauatx+OVr3dTQ1snHyO8pUaJ7zZjAJI67DMbU0Hx6d0vWz7vNK8oaGL8hg0KSXOtdIAIRfAYMcn1/WzYfH08IzqJVyq+pUEJ0ZkfHboPGdYvVrgHqWjvUznTdZRNQBCJ4FQhgm/JjNsZV8eyXQGVWjV+fzmMVXLnrI4PgKW5cN/hu4wgiEMGr9DrpEMezK1Pov8uS6O0tmbQ88jz3IsZusFmZS4izpHhhrLcIRPAqR7MbuF0pYinHNbNesBugOeA3+/LZYX99UwaNU69F5N5TiEAEr9Ldc5OdfSQ9amNImIWC4CuSLp9ekULTDhTQyshymh/u/GmWq4hAPAhSUjbEVnLgTRgcnGRBPDXN7XyChmPlsWvT1A5yy7/A0TDiV/Bj4IwbjQjEgyDQtuh4Kc9ZFIwBPgyCjAhmhqb/MtYRmd/EwpqorqiCi9rlQRGBeJB3lPP53OoUWnTCfgQpDB1E3xHEhIOv9WEABDT7SBEHN53NsQMiEA8CkwGp8Vc7hxZ9tipdyh+BKYWj345ux3LaMAYDPsqH27P572tJr2zhXC/kjKVVOH8KJgKxCF3Kwa1Qji4i3Fpn11tgfiQ+8AjWOQJOtF7fmMF+hqOJi3DYv1POO+pStOC9CIqtYP8E/44rHTf4ud6MAEcQgVgEpNzjTvr25kw64iOTf5EDNWl3Ln2hLj2QFsLpJEsTafrBAmUSFbNYHCG1vIVjJsFKBFqO2RpYQJjnDlMr4HgJm2MQoaP4tEDau3r4FAOKx2Ph9uADgDspsmwP+EhNCgTy2a6cQQUyM6yQ4xwIGCIe8veF8bTTgMIz7ELYjVCrcziznr/PvKMlNP2APSvZEXxaIMjNmbQrV92F8uTkpw84JkZkuW96OHwb1Gyg7NcZE8KdJJfb09Vh4uiB/wtiHl/uyeMUk6Wn7C2LhgrMTsyTb7zSycVYSJ/HbuVM1advCyTtAk3cYaNPQmwD2pi+BhLiShqv8YfVnayNruD0709DcrRLpgdm4pjARApUIjGKZuULnW+6TtXNzt84fFog9W2d9OzKZBodEK/ujhXaZZ8Dd6e3t2TRG5sct3FdYVVUOdvsyFmyGkh1b1Q/dyPHXKOOBHldsEacxacF4ssg0xT168l9ouIwJWDnvrXZ+A9uxaXrtD2xhscr59Ze4RpunBIJg7MwolSZb7n05SC+0ECIQFzkm3153NGjb5Ubmj7gRGWPCwEp1LOjUwiEMBBwwtnJDC9x+IRHsIMsYHRgGeikazBEIC6CTFMcFyJ1xAgeX5ZEz61O5XRvcK2zh+1mCOaaMjfQi2r8hnQ+pnQ0RiAMHRGIi7S136BmZS93DLEmu5fXNmTQwmOl3N0DhKtdAg7roz8kcooK8ojgbMJG98X2OFZFBOJF0Cpn7Lo0bobQ2+t2p/JtMAP+7u9j6Am1m6yILKcPtmV7NMVbuIUIxIvAp4Cp9pB/HBcCPbI4ge6fe5bzhu7yi2Zz6v55sfRP9TwaGAieRwTiZrAz4EKQSsvO5Bo2rdCcYPLePC4I+nxXLgvkjpnRdMeMM/THaVH0+6mRlFrRohz5q9ovIeiA5FCc+A2lb7AIxM2g7QyariGiDNChAxHvlVHnudQUptR/AhM54/Svs2N4nsdds6L5gj/y6y9O0AglFHT7sGJg0J30xqVwE3IVEYib+feSc9ymEyIAe1JrOTdopDKr/jY3lkYujOeAH9rVoPAH/gYaFSCWMudwEf1m8in6rbrwdR72j6c4FzsEDkdQaYj8rjeHELgVgbgZ+A5oXIYPPhgxI4r7Pj25PJl9C5hP6G37otpBXlqbxrvGYz8k0n1qJ7lvzlm6d3Ys/WNRPIsnIKKUs3YFx+Bm5JHnXSqU6kUE4mZQxIO0ifafCoD+pHyKr/flcULeY2pX+d2U07xboO0NslhHTD+jnoukv/jFsMk1Sj2H35HEh2Q+/NAFzyEC8RBnCi/ySdVotVvA3LpHfejR4AyloKiZfmJZMr20Jo19FjTPRk0E5o3AScffE7zDoAJBYhza3H+03W4iCHa2J1ZTkHK2Y4suaZcGhGujlU8BZx1pKhiP9uRy+wgBjFvA40cW2cXzZ78YNsGeUM9hR0EekeAdBhUIHMYVyo7DD1W4Bd4P+BcoCrodOLFCfQZuMmGZdZyy/+E2G3/gERxElPzu72PpzpnRys9IoAfmnWWnHeJATARCwdoOF1pwCsYwqEBQXIKjMiTmCbdASjtSzuE73A4MuITvgBMq1Lb0ck75EYh5oNLubPFl9k9u/mg/t7fXepRy8iKq4VAliFED0kvLdVCNmlXdRumVrU43zBhUIIIdBOo2x1VxlSNAYwR03tDLi0LFHyrl8AF35fQJ5advbMzkXRxtbRw154T+4OaEehD4ekj6dAYRiIPsTbnAmbsI7jkKdgWcYuHCY2fpVuJ7Y1MmH/s+vjSJ/RjBeWAFTdlfwI37DmWKQNwCCpXgQHt6PNvx3Eb615Jz/L2d/eEKdlCXvvpMBS09XeZ02a0IxEF61BaAOzqmsnoSfDd8X9S7Z1W1kq2mjdo6bvAairMgHmfa2Aw3cPr6yrp0PmhyBRGISUArHzj8GAUA5x+gmnFNdAU7/MLAfLU3j2csYpCnK4hATAJm9SFm8rS6egdSIoUCzicCimYEhw9Ip3HGr3MWlBQg983VdBMRiEmYvC+Pe0Uhpwt9nqwAxq2h8QV2Rl9FBGISEDhEfhY6lVsFHJlDHEY0iXMXIhBB0MH0AsH8buT9o08VHguCkZheIHC+UCuBREBPBNLQigeCRLUaHgvWxvQCQSANWa9IHR9owpDRQIRop4/pq2ESuLM8pheIp8HMCeRIIeMW4hSsjUcFguZnD/vHcV5RdKHzAxUFwdN4VCDoKYtSU/gMnvAXBGNAJnNM0SUeZuQoKA3G3A8jBuF4E48KBAMVMQEJw3DQUFgwB5P35XO8om+j7sFAyTDKiaeG+m4Q0BE8KhDBXMAkRgHX2LWpfGPDRFlHQWkATGl0dDEzIhBhQHBKh6pJNKyDSfzVnjzKqGrVvszyiECEAYEoph0o5I6POLFDYuFwRAQiDAgyEyaG2Oi1jfbewb4yGNTTiEAEQQcRiCDoIAIRBB1EIIIhYCRdZP5FOp3XRK3t1pm+KwIRXAKzEk8qMaDncGp5Cx8Joz3RmKWJ9IdpUdxGFaPkzI4IRHCJw1n13GdqSmg+i+P51Sm08FgJR9AxsAaVj1ZIJxKBCE6DlquYX/L5rhxunzohOItGB8TTgwvi+M/oQYwyWiukE4lAvAhmoGPAvX9ECZU1macaEhOx0DN4wtZsCk6oVuZWl/YllkEE4kV2p9RyTyu0pjFT10S/w0X0zf58Ophhnn+zq4hAvEhYRh13zkdnxHBbg3bZ5zilnHI44Ug9gYM+HBCBCA6DbvVIeUcauxUccEcQgQgOk1PTxqdT88NLKKe2TbtsSUQggqCDCEQQdBCBCIIOIhBB0EEEIgg6iEAEQQcRiCDoIAIRBB1EIIKggwhEEHT4PzrCP2rGvvk7AAAAAElFTkSuQmCC' width='200' height='133' class=\"itemThumbnail\">\n",
       "                       </a>\n",
       "                    </div>\n",
       "\n",
       "                    <div class=\"item_right\"     style=\"float: none; width: auto; overflow: hidden;\">\n",
       "                        <a href='https://www.arcgis.com/home/item.html?id=281c9efb928d427381582e5d71436bfc' target='_blank'><b>kenya-shapefiles</b>\n",
       "                        </a>\n",
       "                        <br/><img src='https://www.arcgis.com/home/js/jsapi/esri/css/images/item_type_icons/features16.png' style=\"vertical-align:middle;\">Feature Collection by Njoki.M\n",
       "                        <br/>Last Modified: January 10, 2023\n",
       "                        <br/>0 comments, 7 views\n",
       "                    </div>\n",
       "                </div>\n",
       "                "
      ],
      "text/plain": [
       "<Item title:\"kenya-shapefiles\" type:Feature Collection owner:Njoki.M>"
      ]
     },
     "execution_count": 2,
     "metadata": {},
     "output_type": "execute_result"
    }
   ],
   "source": [
    "# Item Added From Toolbar\n",
    "# Title: Kenya Health Facilities | Type: Feature Service \n",
    "ken_health_facilities_old = gis.content.get(\"281c9efb928d427381582e5d71436bfc\")\n",
    "ken_health_facilities_old"
   ]
  },
  {
   "cell_type": "code",
   "execution_count": 2,
   "metadata": {},
   "outputs": [
    {
     "data": {
      "text/html": [
       "<div class=\"item_container\" style=\"height: auto; overflow: hidden; border: 1px solid #cfcfcf; border-radius: 2px; background: #f6fafa; line-height: 1.21429em; padding: 10px;\">\n",
       "                    <div class=\"item_left\" style=\"width: 210px; float: left;\">\n",
       "                       <a href='https://www.arcgis.com/home/item.html?id=7349013e2687410789e07b84c46194be' target='_blank'>\n",
       "                        <img src='data:image/png;base64,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' width='200' height='133' class=\"itemThumbnail\">\n",
       "                       </a>\n",
       "                    </div>\n",
       "\n",
       "                    <div class=\"item_right\"     style=\"float: none; width: auto; overflow: hidden;\">\n",
       "                        <a href='https://www.arcgis.com/home/item.html?id=7349013e2687410789e07b84c46194be' target='_blank'><b>health facilities_& states</b>\n",
       "                        </a>\n",
       "                        <br/><img src='https://www.arcgis.com/home/js/jsapi/esri/css/images/item_type_icons/features16.png' style=\"vertical-align:middle;\">Feature Collection by Njoki.M\n",
       "                        <br/>Last Modified: January 12, 2023\n",
       "                        <br/>0 comments, 0 views\n",
       "                    </div>\n",
       "                </div>\n",
       "                "
      ],
      "text/plain": [
       "<Item title:\"health facilities_& states\" type:Feature Collection owner:Njoki.M>"
      ]
     },
     "execution_count": 2,
     "metadata": {},
     "output_type": "execute_result"
    }
   ],
   "source": [
    "\n",
    "\n",
    "# Item Added From Toolbar\n",
    "# Title: Kenya Health Facilities | Type: Feature Service \n",
    "ken_health_facilities = gis.content.get(\"7349013e2687410789e07b84c46194be\")\n",
    "ken_health_facilities"
   ]
  },
  {
   "cell_type": "code",
   "execution_count": 3,
   "metadata": {},
   "outputs": [
    {
     "data": {
      "text/html": [
       "<div>\n",
       "<style scoped>\n",
       "    .dataframe tbody tr th:only-of-type {\n",
       "        vertical-align: middle;\n",
       "    }\n",
       "\n",
       "    .dataframe tbody tr th {\n",
       "        vertical-align: top;\n",
       "    }\n",
       "\n",
       "    .dataframe thead th {\n",
       "        text-align: right;\n",
       "    }\n",
       "</style>\n",
       "<table border=\"1\" class=\"dataframe\">\n",
       "  <thead>\n",
       "    <tr style=\"text-align: right;\">\n",
       "      <th></th>\n",
       "      <th>FID</th>\n",
       "      <th>X</th>\n",
       "      <th>Y</th>\n",
       "      <th>osm_id</th>\n",
       "      <th>osm_type</th>\n",
       "      <th>completene</th>\n",
       "      <th>is_in_heal</th>\n",
       "      <th>amenity</th>\n",
       "      <th>speciality</th>\n",
       "      <th>addr_stree</th>\n",
       "      <th>...</th>\n",
       "      <th>NAME_1</th>\n",
       "      <th>ID_2</th>\n",
       "      <th>NAME_2</th>\n",
       "      <th>ID_3</th>\n",
       "      <th>NAME_3</th>\n",
       "      <th>TYPE_3</th>\n",
       "      <th>ENGTYPE_3</th>\n",
       "      <th>NL_NAME_3</th>\n",
       "      <th>VARNAME_3</th>\n",
       "      <th>SHAPE</th>\n",
       "    </tr>\n",
       "  </thead>\n",
       "  <tbody>\n",
       "    <tr>\n",
       "      <th>0</th>\n",
       "      <td>0</td>\n",
       "      <td>36.829891</td>\n",
       "      <td>-1.171633</td>\n",
       "      <td>5.327748e+09</td>\n",
       "      <td>node</td>\n",
       "      <td>18</td>\n",
       "      <td></td>\n",
       "      <td>hospital</td>\n",
       "      <td></td>\n",
       "      <td></td>\n",
       "      <td>...</td>\n",
       "      <td>Central</td>\n",
       "      <td>1</td>\n",
       "      <td>Kiambu</td>\n",
       "      <td>3</td>\n",
       "      <td>Kiambaa</td>\n",
       "      <td>Tarafa|Taarafa</td>\n",
       "      <td>Division</td>\n",
       "      <td></td>\n",
       "      <td></td>\n",
       "      <td>{\"x\": 4099884.7, \"y\": -130434.7, \"spatialRefer...</td>\n",
       "    </tr>\n",
       "    <tr>\n",
       "      <th>1</th>\n",
       "      <td>1</td>\n",
       "      <td>36.828768</td>\n",
       "      <td>-1.171645</td>\n",
       "      <td>5.329658e+09</td>\n",
       "      <td>node</td>\n",
       "      <td>15</td>\n",
       "      <td></td>\n",
       "      <td>hospital</td>\n",
       "      <td></td>\n",
       "      <td></td>\n",
       "      <td>...</td>\n",
       "      <td>Central</td>\n",
       "      <td>1</td>\n",
       "      <td>Kiambu</td>\n",
       "      <td>3</td>\n",
       "      <td>Kiambaa</td>\n",
       "      <td>Tarafa|Taarafa</td>\n",
       "      <td>Division</td>\n",
       "      <td></td>\n",
       "      <td></td>\n",
       "      <td>{\"x\": 4099759.7, \"y\": -130436, \"spatialReferen...</td>\n",
       "    </tr>\n",
       "    <tr>\n",
       "      <th>2</th>\n",
       "      <td>2</td>\n",
       "      <td>36.828669</td>\n",
       "      <td>-1.171597</td>\n",
       "      <td>5.329658e+09</td>\n",
       "      <td>node</td>\n",
       "      <td>12</td>\n",
       "      <td></td>\n",
       "      <td>hospital</td>\n",
       "      <td></td>\n",
       "      <td></td>\n",
       "      <td>...</td>\n",
       "      <td>Central</td>\n",
       "      <td>1</td>\n",
       "      <td>Kiambu</td>\n",
       "      <td>3</td>\n",
       "      <td>Kiambaa</td>\n",
       "      <td>Tarafa|Taarafa</td>\n",
       "      <td>Division</td>\n",
       "      <td></td>\n",
       "      <td></td>\n",
       "      <td>{\"x\": 4099748.6, \"y\": -130430.6, \"spatialRefer...</td>\n",
       "    </tr>\n",
       "    <tr>\n",
       "      <th>3</th>\n",
       "      <td>3</td>\n",
       "      <td>36.829104</td>\n",
       "      <td>-1.171956</td>\n",
       "      <td>6.064157e+09</td>\n",
       "      <td>node</td>\n",
       "      <td>18</td>\n",
       "      <td></td>\n",
       "      <td>hospital</td>\n",
       "      <td></td>\n",
       "      <td>Biashara Street Kiambu</td>\n",
       "      <td>...</td>\n",
       "      <td>Central</td>\n",
       "      <td>1</td>\n",
       "      <td>Kiambu</td>\n",
       "      <td>3</td>\n",
       "      <td>Kiambaa</td>\n",
       "      <td>Tarafa|Taarafa</td>\n",
       "      <td>Division</td>\n",
       "      <td></td>\n",
       "      <td></td>\n",
       "      <td>{\"x\": 4099797.1, \"y\": -130470.6, \"spatialRefer...</td>\n",
       "    </tr>\n",
       "    <tr>\n",
       "      <th>4</th>\n",
       "      <td>4</td>\n",
       "      <td>36.829015</td>\n",
       "      <td>-1.171951</td>\n",
       "      <td>6.064157e+09</td>\n",
       "      <td>node</td>\n",
       "      <td>18</td>\n",
       "      <td></td>\n",
       "      <td>hospital</td>\n",
       "      <td></td>\n",
       "      <td>Biashara Street Kiambu</td>\n",
       "      <td>...</td>\n",
       "      <td>Central</td>\n",
       "      <td>1</td>\n",
       "      <td>Kiambu</td>\n",
       "      <td>3</td>\n",
       "      <td>Kiambaa</td>\n",
       "      <td>Tarafa|Taarafa</td>\n",
       "      <td>Division</td>\n",
       "      <td></td>\n",
       "      <td></td>\n",
       "      <td>{\"x\": 4099787.2, \"y\": -130470.1, \"spatialRefer...</td>\n",
       "    </tr>\n",
       "  </tbody>\n",
       "</table>\n",
       "<p>5 rows × 54 columns</p>\n",
       "</div>"
      ],
      "text/plain": [
       "   FID          X         Y        osm_id osm_type  completene is_in_heal  \\\n",
       "0    0  36.829891 -1.171633  5.327748e+09     node          18              \n",
       "1    1  36.828768 -1.171645  5.329658e+09     node          15              \n",
       "2    2  36.828669 -1.171597  5.329658e+09     node          12              \n",
       "3    3  36.829104 -1.171956  6.064157e+09     node          18              \n",
       "4    4  36.829015 -1.171951  6.064157e+09     node          18              \n",
       "\n",
       "    amenity speciality              addr_stree  ...   NAME_1 ID_2  NAME_2  \\\n",
       "0  hospital                                     ...  Central    1  Kiambu   \n",
       "1  hospital                                     ...  Central    1  Kiambu   \n",
       "2  hospital                                     ...  Central    1  Kiambu   \n",
       "3  hospital             Biashara Street Kiambu  ...  Central    1  Kiambu   \n",
       "4  hospital             Biashara Street Kiambu  ...  Central    1  Kiambu   \n",
       "\n",
       "  ID_3   NAME_3          TYPE_3 ENGTYPE_3 NL_NAME_3 VARNAME_3  \\\n",
       "0    3  Kiambaa  Tarafa|Taarafa  Division                       \n",
       "1    3  Kiambaa  Tarafa|Taarafa  Division                       \n",
       "2    3  Kiambaa  Tarafa|Taarafa  Division                       \n",
       "3    3  Kiambaa  Tarafa|Taarafa  Division                       \n",
       "4    3  Kiambaa  Tarafa|Taarafa  Division                       \n",
       "\n",
       "                                               SHAPE  \n",
       "0  {\"x\": 4099884.7, \"y\": -130434.7, \"spatialRefer...  \n",
       "1  {\"x\": 4099759.7, \"y\": -130436, \"spatialReferen...  \n",
       "2  {\"x\": 4099748.6, \"y\": -130430.6, \"spatialRefer...  \n",
       "3  {\"x\": 4099797.1, \"y\": -130470.6, \"spatialRefer...  \n",
       "4  {\"x\": 4099787.2, \"y\": -130470.1, \"spatialRefer...  \n",
       "\n",
       "[5 rows x 54 columns]"
      ]
     },
     "execution_count": 3,
     "metadata": {},
     "output_type": "execute_result"
    }
   ],
   "source": [
    "# bring out the layer of my map \n",
    "ken_health_facilities_layer = ken_health_facilities.layers[0]\n",
    "ken_health_facilities_sdf = ken_health_facilities_layer.query().sdf #whats sdf?\n",
    "ken_health_facilities_sdf.head()"
   ]
  },
  {
   "cell_type": "code",
   "execution_count": 5,
   "metadata": {},
   "outputs": [
    {
     "data": {
      "text/plain": [
       "Index(['FID', 'X', 'Y', 'osm_id', 'osm_type', 'completene', 'is_in_heal',\n",
       "       'amenity', 'speciality', 'addr_stree', 'operator', 'water_sour',\n",
       "       'changeset_', 'insurance', 'staff_doct', 'contact_nu', 'uuid',\n",
       "       'electricit', 'opening_ho', 'operationa', 'source', 'is_in_he_1',\n",
       "       'hidden', 'changese_1', 'emergency', 'changese_2', 'addr_house',\n",
       "       'addr_postc', 'health_ame', 'addr_city', 'name', 'staff_nurs',\n",
       "       'changese_3', 'wheelchair', 'beds', 'url', 'dispensing', 'healthcare',\n",
       "       'operator_t', 'tag', 'ID_0', 'ISO', 'NAME_0', 'ID_1', 'NAME_1', 'ID_2',\n",
       "       'NAME_2', 'ID_3', 'NAME_3', 'TYPE_3', 'ENGTYPE_3', 'NL_NAME_3',\n",
       "       'VARNAME_3', 'SHAPE'],\n",
       "      dtype='object')"
      ]
     },
     "execution_count": 5,
     "metadata": {},
     "output_type": "execute_result"
    }
   ],
   "source": [
    "ken_health_facilities_sdf.columns"
   ]
  },
  {
   "cell_type": "code",
   "execution_count": 6,
   "metadata": {},
   "outputs": [
    {
     "data": {
      "text/html": [
       "<div>\n",
       "<style scoped>\n",
       "    .dataframe tbody tr th:only-of-type {\n",
       "        vertical-align: middle;\n",
       "    }\n",
       "\n",
       "    .dataframe tbody tr th {\n",
       "        vertical-align: top;\n",
       "    }\n",
       "\n",
       "    .dataframe thead th {\n",
       "        text-align: right;\n",
       "    }\n",
       "</style>\n",
       "<table border=\"1\" class=\"dataframe\">\n",
       "  <thead>\n",
       "    <tr style=\"text-align: right;\">\n",
       "      <th></th>\n",
       "      <th>FID</th>\n",
       "      <th>X</th>\n",
       "      <th>Y</th>\n",
       "      <th>osm_id</th>\n",
       "      <th>osm_type</th>\n",
       "      <th>completene</th>\n",
       "      <th>is_in_heal</th>\n",
       "      <th>amenity</th>\n",
       "      <th>speciality</th>\n",
       "      <th>addr_stree</th>\n",
       "      <th>...</th>\n",
       "      <th>NAME_1</th>\n",
       "      <th>ID_2</th>\n",
       "      <th>NAME_2</th>\n",
       "      <th>ID_3</th>\n",
       "      <th>NAME_3</th>\n",
       "      <th>TYPE_3</th>\n",
       "      <th>ENGTYPE_3</th>\n",
       "      <th>NL_NAME_3</th>\n",
       "      <th>VARNAME_3</th>\n",
       "      <th>SHAPE</th>\n",
       "    </tr>\n",
       "  </thead>\n",
       "  <tbody>\n",
       "  </tbody>\n",
       "</table>\n",
       "<p>0 rows × 54 columns</p>\n",
       "</div>"
      ],
      "text/plain": [
       "Empty DataFrame\n",
       "Columns: [FID, X, Y, osm_id, osm_type, completene, is_in_heal, amenity, speciality, addr_stree, operator, water_sour, changeset_, insurance, staff_doct, contact_nu, uuid, electricit, opening_ho, operationa, source, is_in_he_1, hidden, changese_1, emergency, changese_2, addr_house, addr_postc, health_ame, addr_city, name, staff_nurs, changese_3, wheelchair, beds, url, dispensing, healthcare, operator_t, tag, ID_0, ISO, NAME_0, ID_1, NAME_1, ID_2, NAME_2, ID_3, NAME_3, TYPE_3, ENGTYPE_3, NL_NAME_3, VARNAME_3, SHAPE]\n",
       "Index: []\n",
       "\n",
       "[0 rows x 54 columns]"
      ]
     },
     "execution_count": 6,
     "metadata": {},
     "output_type": "execute_result"
    }
   ],
   "source": [
    "ken_health_facilities_sdf[ken_health_facilities_sdf.changese_1 == 'Nairobi']"
   ]
  },
  {
   "cell_type": "code",
   "execution_count": 7,
   "metadata": {},
   "outputs": [
    {
     "data": {
      "application/vnd.jupyter.widget-view+json": {
       "model_id": "7bdba29dd5bd4dac8b65d98dfd83d934",
       "version_major": 2,
       "version_minor": 0
      },
      "text/plain": [
       "MapView(layout=Layout(height='400px', width='100%'))"
      ]
     },
     "metadata": {},
     "output_type": "display_data"
    },
    {
     "data": {
      "text/html": [
       "<div class=\"map-static-img-preview-ca8396cd-ac25-4218-99ba-58a5d70e1222\"><img src=\"\"></img></div>"
      ],
      "text/plain": [
       "<IPython.core.display.HTML object>"
      ]
     },
     "metadata": {},
     "output_type": "display_data"
    },
    {
     "data": {
      "text/html": [
       "<div class=\"map-html-embed-preview-ca8396cd-ac25-4218-99ba-58a5d70e1222\"></div>"
      ],
      "text/plain": [
       "<IPython.core.display.HTML object>"
      ]
     },
     "metadata": {},
     "output_type": "display_data"
    }
   ],
   "source": [
    "Kenya_map = gis.map(\"Kenya\", zoomlevel=6)\n",
    "Kenya_map"
   ]
  },
  {
   "cell_type": "code",
   "execution_count": 8,
   "metadata": {},
   "outputs": [
    {
     "data": {
      "text/plain": [
       "True"
      ]
     },
     "execution_count": 8,
     "metadata": {},
     "output_type": "execute_result"
    }
   ],
   "source": [
    "# plotting the health facilties are on our map\n",
    "ken_health_facilities_sdf.spatial.plot(map_widget=Kenya_map,\n",
    "                        renderer_type='s',\n",
    "                        symbol_type='simple',\n",
    "                        symbol_style='d', # d - for diamonds\n",
    "                        colors='Reds_r',\n",
    "                        marker_size=5)"
   ]
  },
  {
   "cell_type": "code",
   "execution_count": 4,
   "metadata": {},
   "outputs": [
    {
     "data": {
      "text/html": [
       "<div>\n",
       "<style scoped>\n",
       "    .dataframe tbody tr th:only-of-type {\n",
       "        vertical-align: middle;\n",
       "    }\n",
       "\n",
       "    .dataframe tbody tr th {\n",
       "        vertical-align: top;\n",
       "    }\n",
       "\n",
       "    .dataframe thead th {\n",
       "        text-align: right;\n",
       "    }\n",
       "</style>\n",
       "<table border=\"1\" class=\"dataframe\">\n",
       "  <thead>\n",
       "    <tr style=\"text-align: right;\">\n",
       "      <th></th>\n",
       "      <th>NAME_2</th>\n",
       "      <th>count_health_facilities</th>\n",
       "    </tr>\n",
       "  </thead>\n",
       "  <tbody>\n",
       "    <tr>\n",
       "      <th>0</th>\n",
       "      <td></td>\n",
       "      <td>645</td>\n",
       "    </tr>\n",
       "    <tr>\n",
       "      <th>1</th>\n",
       "      <td>Baringo</td>\n",
       "      <td>58</td>\n",
       "    </tr>\n",
       "    <tr>\n",
       "      <th>2</th>\n",
       "      <td>Bungoma</td>\n",
       "      <td>3</td>\n",
       "    </tr>\n",
       "    <tr>\n",
       "      <th>3</th>\n",
       "      <td>Busia</td>\n",
       "      <td>1</td>\n",
       "    </tr>\n",
       "    <tr>\n",
       "      <th>4</th>\n",
       "      <td>Embu</td>\n",
       "      <td>5</td>\n",
       "    </tr>\n",
       "  </tbody>\n",
       "</table>\n",
       "</div>"
      ],
      "text/plain": [
       "    NAME_2  count_health_facilities\n",
       "0                               645\n",
       "1  Baringo                       58\n",
       "2  Bungoma                        3\n",
       "3    Busia                        1\n",
       "4     Embu                        5"
      ]
     },
     "execution_count": 4,
     "metadata": {},
     "output_type": "execute_result"
    }
   ],
   "source": [
    "# number of health facilties\n",
    "count_health_facilities = ken_health_facilities_sdf\\\n",
    "                .groupby(['NAME_2'], as_index=False)\\\n",
    "                .agg(count_health_facilities=('NAME_2',np.count_nonzero))\n",
    "count_health_facilities.head()"
   ]
  },
  {
   "cell_type": "code",
   "execution_count": 5,
   "metadata": {},
   "outputs": [
    {
     "data": {
      "text/plain": [
       "<AxesSubplot:title={'center':'number of health site'}, xlabel='count_health_facilities', ylabel='NAME_2'>"
      ]
     },
     "execution_count": 5,
     "metadata": {},
     "output_type": "execute_result"
    },
    {
     "data": {
      "image/png": "[encoded data removed]",
      "text/plain": [
       "<Figure size 720x720 with 1 Axes>"
      ]
     },
     "metadata": {
      "needs_background": "light"
     },
     "output_type": "display_data"
    }
   ],
   "source": [
    "# plotting the number of health site\n",
    "plt.figure(figsize=(10,10))\n",
    "plt.title('number of health site')\n",
    "sns.barplot(x='count_health_facilities', y='NAME_2', data=count_health_facilities)"
   ]
  },
  {
   "cell_type": "markdown",
   "metadata": {},
   "source": [
    "The highest number of hospital is in nairobi"
   ]
  },
  {
   "cell_type": "markdown",
   "metadata": {},
   "source": [
    "### Importing the kenya mobility data and extracting the neccessary information"
   ]
  },
  {
   "cell_type": "code",
   "execution_count": null,
   "metadata": {},
   "outputs": [],
   "source": [
    "# Item Added From Toolbar\n",
    "# Title: Kenya_movement_range | Type: Feature Service | Owner: chinazo9\n",
    "ken_mrange = gis.content.get(\"a655260171e644e78e865fcda324af3a\")\n",
    "ken_mrange"
   ]
  },
  {
   "cell_type": "code",
   "execution_count": null,
   "metadata": {},
   "outputs": [],
   "source": [
    "ken_mrange.layers[0]"
   ]
  },
  {
   "cell_type": "code",
   "execution_count": null,
   "metadata": {},
   "outputs": [],
   "source": [
    "# changing my layers to dataframe\n",
    "ken_mrange_layer = ken_mrange.layers[0]\n",
    "ken_mrange_sdf = ken_mrange_layer.query().sdf\n",
    "ken_mrange_sdf.head()"
   ]
  },
  {
   "cell_type": "code",
   "execution_count": null,
   "metadata": {},
   "outputs": [],
   "source": [
    "# filtering only 2022 movement range\n",
    "ken_mrange_sdf = ken_mrange_layer.query(where=\"ds>'2021-12-31'\").sdf\n",
    "ken_mrange_sdf.head()"
   ]
  },
  {
   "cell_type": "code",
   "execution_count": null,
   "metadata": {},
   "outputs": [],
   "source": [
    "def average_occurence(data, state_code, state_name, target):\n",
    "    \"\"\" This average will help you get the addition of all target in\n",
    "    groupby the state name and code that are in the particular dataset \n",
    "    you are working with \"\"\"\n",
    "    data\\\n",
    "        .groupby([state_code, state_name], as_index=False)\\\n",
    "        .agg(avg_mobility_change=(target,np.mean))"
   ]
  },
  {
   "cell_type": "code",
   "execution_count": null,
   "metadata": {},
   "outputs": [],
   "source": [
    "# Average movement range for 2022\n",
    "avg_mobility = nga_mrange_sdf\\\n",
    "                .groupby(['NAME_1'], as_index=False)\\\n",
    "                .agg(avg_mobility_change=('all_day_bing_tiles_visited_rela',np.mean))\n",
    "avg_mobility.head()"
   ]
  },
  {
   "cell_type": "code",
   "execution_count": null,
   "metadata": {},
   "outputs": [],
   "source": [
    "# plotting the avg_mobility_change \n",
    "plt.figure(figsize=(8,10))\n",
    "plt.title('avg_mobility_change')\n",
    "sns.barplot(x='avg_mobility_change', y='NAME_1', data=avg_mobility)"
   ]
  },
  {
   "cell_type": "markdown",
   "metadata": {},
   "source": [
    "### importing the pregnancy dataset for kenya"
   ]
  },
  {
   "cell_type": "code",
   "execution_count": 6,
   "metadata": {},
   "outputs": [
    {
     "data": {
      "text/html": [
       "<div class=\"item_container\" style=\"height: auto; overflow: hidden; border: 1px solid #cfcfcf; border-radius: 2px; background: #f6fafa; line-height: 1.21429em; padding: 10px;\">\n",
       "                    <div class=\"item_left\" style=\"width: 210px; float: left;\">\n",
       "                       <a href='https://www.arcgis.com/home/item.html?id=3e133a24b5864e89ad49f2f75dec112c' target='_blank'>\n",
       "                        <img src='data:image/png;base64,iVBORw0KGgoAAAANSUhEUgAAAMgAAACFCAYAAAAenrcsAACAAElEQVR4Xty993sjyZGu2//0NXuPVlrtauW9HY3TOI3vnvbekWxvyaYnSHjvPcnumYkbb0Qlq1Bkj5F0dlfnh3wAFAoFICu+jPjC5bH2JCedaV54bE+y0hrv2OPscR+daVHGey15/mJXnj+f6tiV/X1//HvG/v6ujPamMtqdyt7+4ff/1rE3nUizXJdqtiKj/kB2J2PZnerYm8hkryf93ZoM9xrS1f+V/J/x/83bfNT7m9IYZKTSWZNc9anUexkb3UnJPmvzNM7LYFKT6bQvk4lee9CQRntbmv0d6U8qMhy3pNutS7tVtdHvNmQ07EoxvyX1WlHnYGJz2es2pdWoSLdd09/clsmY6/Wl3+/IQMdUf/9w2JPBoKPXz0uxui5Ly/NSrm5Ju12VZrcg24Un8mx9QXZKT6TayOr3NmUwbEqxvCH1lv63TkXag6K0RjvSGuj9Hmb1P27pf9yW/qgmu/sjGe92pDfU/7M3tLnktzH2dO72dsf6OD44Huab/8DxcMw/M5EXKi8vXuwdHOMa/n/9PyevnxzJezn7Pcnz/DpBHl/2Gf/OvZnfcXgkf5ePY7MgABgxQNKjP63ohPXjH8GEHPFnjho+sUzgRHZtgv1xdzqSqR7vjoZ6Q4YqABMT4qke55z0db7N4HdN9LqNck3KOyUFSlUqORXqVltGo550RiUT7PT/DODgsaVzUVOAFJvPJN9YUoAsSqO7JbWugmaYOTi/NdY5G+ZVQPV1L6//RUEwVED0i9LtK0BGben1GjLotWRsQj+QbqeuANlUwNTst04nwwgcdQVPT397zwDCb118/FgeP3go1UpZ7t2+K08ePpZCPic3r12Vz45/Iqubj+TalUtSKuVk4eZNuXLxoiw+W5AL507LjavXpFzOy8VzZyRbXJWb16/KTnZDeiP9jeOqdMcFWwiaIwX0IKcLyFCHgkSBPt0dxffvYMQACQPB4z/E7wfBBSCxYIb7MgsSB8qskB4GSPLY4fOPlhUW3729XZ33nspbfM7R1wu/g0f/j8fSgvHyUZDhbl0BoYL73BHLSjPZ68p0PwGaIwYCX69VpVzSVavRkFKxoDe6JMVCXvLZrDQadcnqY2ZjS6rlshRzeclsbapAtWcm9m8aNkFTmxw0yKDblWqhLNVcUUq5rFRbKhTDeEEAGGEEwW/qSlvprEqlvabnb+jISKuftxW3PQZAW1JqLkuh/kyKjWWpq+YAFH0FRL/ftAEoptNhtDCMVFM0pFLakUatoCAYyL4eHysQ+rraDwdoChYLFVQdk/FQnj1dlLXlFQVTQ9ZWVqVUUKHWebt84YIC5GN5tnZXrl45J9u5Fbl66bwC5Lwsr9+VC+dPybPlx1JrKEAunFXtsiI3rl2R2wvzqon03u0OZDRVbaFarjVSC0JBPpy0ZLLL7x0c/OZYIINwu3AF4Y9XZv9/DJ7Pao9ZMLi2SQpl8nn8ff7Zl7+OAXK0VTMds+geBsdXD4A+CgBBa8yunIdfF9ScKMtAzZLxXtuAMlFt0t+tKnAa9vooNccYDvp6U1fk4b0HsqQ3eunpU1ldXpZb8wvy6P5DFZSS7GxnZH1VTZidrNxduCPXLl8zsPzdAEkN/jw3bzTpSr2uQNxYl1LFNUH6v8dzAFDUHBnmTCP0e7rCTzrSGZakoSZUta3AbqtG6ek8dtXk6pWl0y0bMAaDtp4PSFoGAAQODZHNrEh2e81MKhM4HQjkUM/HpOI3TsZ+Ptq0XqtJUReWXq8jNZ2XZrNhC8jmxrI8fXJbNcMzWV57ILnyiqys3ZfFpVuSyT/SYw+lpmZVd1CTLf3OYnVDsoVV0yB8D0KAxhhOm9JRbdpRbdIdl1Wjl+w/GkgjjZ8UvHBf0gBBBhD88Ln03PsIwIgF2wUyCZh4JD87e52XD87DlH7+XH/XPtrtsBx81XBNOAomlptVCEJaOGaHTqCO3m5ZwaFmym7TXmOHO0h0tUE1RX8y/JiJmg5oi5WlJVle0hu5uCRbmxv6uGimApqF9zNb22o2FPT4M7l/554KReUfDpAw9vWmsHoiuKWc/v/R0QBJapKOLhKDaV1Nj64Ke9d4Rkc1RadfVpOqYnb+SFd/hLyn5lOzXpJ6JSf1akFqVeUzjZLxj/zOumqEu1LIbZopNVVzC1NqrM9Hel20BgLGCs/zcMP29+BoEzO5uE5XtVCjXpBs7plyjW2p1DLSaKlmU22RU02RKy/pcTUHVUvyOwErmq/e21bzShe6qZpwUwfJVDnZYFpTzdEx/jFWrcJ7AayzWiOaw8Q9TptQ/H7uexpY/r6bL4e1RvL1YYH/qtfpY1gN/Y5qyIlzovT7PtLfFz8PJmAEEEwMAHJYQJJ8JPl+d4pGKRyc01XhgaMMFTRMMObXwYToj0WLdLsqODo6nZbe/L502i1pNXU1HmFnq02udmJPj7f1eLvV1AmOr/H3jakBgpE8vquAHoybKqgZqTYxl5LmVeSomEDUw3NdCKZqNg2aKoSYOCXnFSp4o2HHSDdjrAN+US5kDATVspphEVBKhS3Vkut6fEM/X5ahke+Wjb7yk26nYeYYNweeshdxgGDj8xyS3GoqIdfPA8JmA81SN5A0mjkZjbsmoGMTbgS1b79xqo9D/b/1vv7Xgf7+fsGAPZlw/sDMqr09hHrkprQKMZ8P5pJ9d2QiBh5yFAAYaETOC6Zi+Lz/j5jHzALjaHDMjOez33eUcHN8MkGL+bHDJl76e15+7FgMjjQwjl5Jj34dXSMSqN60ZCAJJhfCjwm18uyZDbRIRc2EpSdP5dbcgvGQsppZG+vruvIV5MGDR/Lg7n0DyT9Cg5i22NfVct9/0/5zvfHPRzLca5lJwcqb2VyVWlP/xzjwEP6LLgKTsh1zDYKmVLNpXFcCXlOg1IxLtFsVFdKiCTn8YdBvGxkv5TOyubZoIEGYu3iZ9LGjj1UFTLm4HYEEbxXaA+8Ugjyw3+kerIEJIfMQhBHHBloKUHKOrda62jc6CsTGjn2/m0VjI/68Nxi1zJOGl6reVZOwu2FOhs5Yf7ceByAGjD0Hg5tBAQTxKoxWYBHgMSmY6Tn34eYsgOeRY34//XNJgBzWKC8b8fclH8NxN+sAoS8osWkVC/3R10wfPwDIy71WLwdEejhAwnXQLDEv2dMJHcimCj984+mjJ2ZiVSsV4yI3rl5XIVo3jnJbOcnW5qbcV3DcuHpDqtWKff7wxH+7gVky2K2bkwFTYqTA4PdhUvSUV7VHana0s2pqbavwKFGNzC1MSc7jda2nQq4cZLTrBHY87arAKRCUZ5gJpQIP14BTNOuAoCaV4o5sbyxJSYHAa4BRV1OL8yHoaBZMvCR5h6e4WeWkPUmS+S88wkkAEUAJ7012u9JTwLZbRdUuRfsswo7J1ulVpNHd0d+/Y/8Dr1xzlDGN2Z9gVuHhiTTHAUAQkniVt3nU7wJwAJrHWOheBhBftZ2PxBw1KYDBlElrE7/214/4emoW7aql0u+bUwirJf3+YRCEY0cd95HwYqVBEl5H5oVpmFlT7GjQuCYhRoAgIpysNjUFRCGfN2AUcjm1nWvGOwBOU5/jvswoOGoKikq5ZF6tXr8re0dM+rcdJmx7HeNMvWnVHAs8n3BMudRwr2k2eUEBks2sS7UOJykYQNAg5daa5EqLZssDDjMdbGV0U6pRy5s2gHd0Ww4CNAPHMLM6eoxVl5UdbVMubRsPwYPFcXN1s9KrUAdTDdPKvUGYOWEFj26mChXm00gBinYY68CtPBy2pdnOSz6vnKSqZlS7LPVGVhoK/mpn3TRGrb8h9cGWxUDglHiwgtfJuAhmGQDdi926B4Kmwxwc0W8OQhSE+WVOmgD+g+vMACIppLMA8XMPC216hO+ZjNGYMTji7zv8GR/J70y/53wvAki8+ocR7PBZ0yuAJXaDzn4meS1MrbIKYtvIsN+EEAeJYiC7rC78oXDcbdrwfLJLQA8NcHjSv+3AdrXgIFpDTaW+Cj4xnem+mhZqbvHYHhal2Snoyp6XSkX/w0g5xqRqpLZYWVXzb0m1RsPt6vHACDZao92sGLdA4Jv1ommGVrNswABAZnLpaNRKCv6s7JgHa1UXiaKCyjkHphnn+ursbt8gnDYfmDoHYJlId6C/q61aoMdv1utW0FJVHRVZX38gD55clPXMXdnM3ZNifdnc1I0hwcAtAwgxDzTIcMoihr0+MG3T69TUPGxGgIlXeBfaWIsEgBzMb/Q7eUwT9uS99c8kB+cdFtgkQMLjy4bHN/jOYFbF4+WffTkw7Jr63mj3a02so4+bfT4DhvhYElDOSQq2YhMv8fhJ/IPTQpycVLsZCozxHvzBV6/0ed92MCGABLOJQVYAbutdBQecZGAu65a0OmXTJHUV4KGu6N1BRbWKapf8spLhmgkSwECo4Q09fQ4o0Bgc76qQAY6OCryZXaZlClKv5PWxaOdVSln7TEO5C9fDKwaHwTQCHOEmmh0/xfTC7o/cvyrM8I1yXbVCZ0fyOeVuCrqqmm1orCcPb8jDpxclV32iwFhXs2pDSq1lM60ASFM1iQU5x8EUVoCoiQVA+e38Zze5XKgx6dwl7EIVTKYkN0kKW5o38l6Sy6Tvi5/zzQQ3PQDHQM2qpLfqm42v/h7krjzalWPJ1JIYALz22MgsEGITy4+/zD2cul7k4UI4bbIOVonUJD0HFEnVOzUTix/7jzC1GBB2PGx7StRdo5T1+oB3bIAZK5Ef6arabCHISs4rdTWXMJuKuvpvGygs9QPNoSAI3ie0AdrDIvR6HC9VueAkvJzfMq0B76grUDgXTtKol/QRL17XSTf8IxE7sPjCcwKtw+h9BZKS+VZTNUZjU0p1BUVzS83SHTfxlP8AwPWVh7JdfCzVHkR82wKd5faqpcrUVYtY1Fz5SHdc0f9fNW8e8z4addwjZ9zHnQN2DzApp2g17sn4IBMg8KMkfzjazJoVyIP/NuNdSgpuLKj+/mEBDu8BjMk45mLffhz9fb3dXdkePA9erJhPxC5OF/yjAZI8nja5Yq1y8L4NPEB1E0b4AObNARgidctzj8wPovewA5WA7jH44emJ/+oR/nB6cByy7pqkbh4uBwicpGnHiSx3BiUVxooUczvSKFct4u3mwsiA4QDpGNGuKw9pq3mDEHPcwKBknDyr7c0l2Vx7otfZVP6hwqnml2kaBQmrNt8BqBC65O8Mrl08XJzHZ7h+obAu5dqGVFqqHcj3aqlp1yg50JSH4MmqdbdMS2BK4YEDKPWecw+PmOcsODicuAbhe9AaAJDhnCES+oTw+Pw5KAJ3OUrIwu+PQRAL41H3Ix4xQT/8XjySZhUxj/T7X/XZ2RH/9vB7pvq8Nt6XreGXh1NNZgXfn3dSGiEeRwHk5QMXcMfiJ0XjAvATiDLCumsBxlHkYWrJBKGNfryZWv/AREbA4OS8YeYV/MQS9BScAAStgtbDBdoeKkhaZWkUa+YdCaYCqyqBPCPpuqIXS5vS7pbM/LFAYdc9WjUFSSG7oRplXfLZNQMOGgehJ9IOOPJZFXQ1v2LXaXyD+S5WbEAFryHhsVBYM/OK0e7gPq5It0delfKrkf7WQZRXFQ2/RwV9T88bli15EifEQAHigcIgJBN3Uw9wE/Nb+K94n2a1fSxMsYCF4/481hLJzwRNEwKNyfeSI8lPwu9Kvs/vxTNq/HXms7NaKn3do0e0CCS+D4ulMNyXjZECxLI5gwCneYURbYS5YrGNro1CpEGSGuWbACQGmZ0/IcjItYoRmW/paNhzvEeAJ6xs/PDJPsjeNTMsHPvbB7xmYOYUJgyv+S40CJyE0YXII3BDHZ2WVHMVy4kiqGl+fbXLyZuqlHeUIKtN386Zy3S8y2pfM1MHIGBCwTUAAUQeQm+pJ72Gm0oldwVXlZME8rsXuW95vot3CzD1PGrO9+XzK1JvZqVUW5dWu6AAVk3VVS03dNMJkyqAw2IdU7yKav6NO8YvcFH3x3Vz7+KNCx4mE44xQcWWmZEWPNTH/YQ2Cecl5zJ9P8LrNEBiYYzPndUwDozDAhy/5lyAkfZWpc9NXvOrx6xW4zlZ5TvD57I6FDlWrqF2sxYMSwoyQgwwyLua7hFlxTRqy2CvFoEhBkg4P/35rwRI6n1bsW0AyoqlPCQBAjAwtf5RWsS5yNBWs/g74CVd4yBdXW1x4yIwvXZbijueVGjeJhV6S/NQPpHdXpZc4Zl0RkVbQHqTskWza9WcpZ1gOu1sLUsGEFRyCjbA0TKNQT7Wlppe2cyyeaAMENFwcoynTMn7sGXR+16/biArlzel2ckrB1mzoF+tvSnV7qanrA/dpGqNHRz1QcZeo7UByCgynyDlMdl2dzLzwPe6mYUbuW9aEm3p5wRifljQk0IWRiz8s8J69DkvE/D4mGsMN6tIQk1eM31u/PmvGwmA7CMTU5XBqWSGn8vyQAGSy69LVW1WUi1aByDx/CoAYYR2nxqKoefr7NWNUxxF7mcE/ghTbRYkMVhmPwtAqocAwtjdByT/GLcvI516Ysd0whAihDF4jfrdjqXJk+CIsLbV5CIiTn5VXs0dVvL+tK6ar+KacaDaY+Dku6Hkfm35kRLnR3Y+WgcNAqneWl+S/PaaEXaEFXIMD3EvFvGjvn0fLt3usGKPZdVWTfKtettS7WyYhwpPVbXrw2pXjHu4FsGlWx9sm2YeEk03J4MnEvpwcDjZdmEBBPwO3NgsEp7V66Q8ACpOOIyFLT2Xcc5W0D6HgRXzlCCss9cMA/N2OCA4mlg0jzjvZZ//qhHfe9cexeGerA+/kMW+AqRYzih53NIVjlQLVdP9KK1CBRcCCzAMIFFqOxoEIXZh/rYAid877PlKAqRiJhffnfwTwe0LytM34x85WDERTBL2RlO4REOqhaIFEzsD5QIdtef7DdUiNWmqidPpl9SejwuvSF8ZTkhx75l5tbb8ULXEqrTqZcu1greQfpJVzYLny1JKdODV6ql24f869yD1pKnXL1oaemtQ0IVMNUJPTap+Rqo95SGtFQMGQGFwjEeAEWIepJV00XAKMnK20Eqh3gZwhOcWr9rDi+ZzDhgCaef34U0LEfejAJIWOB8cmxV8jofHw96swyDhPbTHeMz3H/2df88IvxW5ak12JTN4oebVl/IEgLSoJlP7tVDclGIhI+VSRirchDEpIyTnNc3jZERWH9EgLuTplf+okQRIPGa9YLMgs4zZKNIdEh6Tf4Y/Mdn/dqZWeiK+arjniIzZtnGKzrCgIChKMZ81sg5Aau2MDMYE+HqW40TCI4sJv52VmzqR7rBqBUdoG3f5UvtRNH6C1wuvEyYaXieqECHfO1srlqbiQcKxxT56/Zpl4Lb1dzCavaz0xvo7lGSjKcrtlQgYnlsFIAJYiHvUB55aUu+Rjr9tcRMKucakqkRaBI1ChsBo0rbIOmDx+QieLeIMePBCLCOMMKfM7+HIezz3sdDP3g9iJgEk8XWS51Nk52YVC+T0CN7xbcbR4PLftKv3cFfyyj3WFRyYV497EnmxFAxN5SFN1R4k7mVzqqrbURzEBLZu9jqFUf2Ig8Q8JCn4R4PmZccDQGYB5ObdQM0suA9mUKha9BHFRb4FQJI3JTkp6fcOXkeCQeYudREWta6VpV6qWO4VmpakvxB9Jv0djcc82urd23ISbO93DBiQcdy/BAIRODxSZAOTMt/r6/UbBYuVcJzfgqDhTWp39bxe3n/HuKTmmz4fUy6bM75huVURINylC1kPBJ1oOfeXFPctaQ6yCm7lnN28Z/yaqeVpM8RDuK7lZk174sLrbuZgis2CIwkEn78kQMLw17NaIRybBYgPP8ffBxzjkVeZpu/fNx0vu/fheTADJ/qbKuM92VTusQI4VHvc6waAJAb+cQqICtmM3QSO4cFCACw+oM9fBhAHw6zw+7HDJllSg6Q/E2pMACY8CNOOElCbtH13w31dTCQ9EUeN9GdmPm+pKX2rrsMO73d11S/XpFEml4o673rk8WmbJsE13RxQPLWpplD+4DdjmhAsRFuQboJtDw+olZ3ItzpFBdy2VOoZKam5i2s4rOzmEOipxhk1ZDCpm+ZoU7SlQg8hd36RsXp5TC6ONYcODE8l0bkcO7BavZylpVhdCOZjFOwzd64KPg4Zy2RWkJBOw1zHQkuKSVJ7zAp8cs6TxxwwMbgCgJIA4bwkQPw6IYNgYkHAf5RZdVg+fPB7OphWwxfybOCm1X3VHgttoR5kdoXnOXUF2a0N927ZcRfYuP7DzwtCfkjAX/o6ff7s8SSo7DuiuIm7gZ20B4AcpUHSE5GeoPSIJ+rwtRhmg1saSM/co616S9aeZeTZYkYymZKapXWpVGtW2Ydp0h2WbLCY7L+YmCYKAMG9i7YJAKGOg2PdblUaraxr7E75AEQhvcSKsCaYe1XjNrhx0RJExTGduEcdmkeMKmoBqBXQc62CadWwGvMdq5W3Skf9LlLercxWNRvXJznRoui7bbs+XriRLgqYeWEeggkUz13QHocFLzn3zm/cW3YYIPF9SGsQmm3YArh/dBDwbx3p+20Lrv6uoQKwMNqXNXjHwMFxqyMy1zSAzJo/cI+yrmZba6t2M9KCPAum9PE0IJJaJHls9v2jzo9HqFh0TpIESHoCkn/+8GQcPVFHfS4MbjCeJQAyGg90hW/InfsFuXm7Kgv36nLnQU0eLVZke6dqhWCYJqY59gcHqhshBAgEBCH7TnQ9I5aaEYh+u4+Al4zYY/qENI6pXg9TrjdWcEwwq7Iu+Ko5LG1ENQfHqb1B6NF2ljeG2xeQoFEACMVRPZwMqj3UCgDAeNmsVp60eDxZqu3gm/wHXMAITvgPs6s78xVW/6PnLZyTBkd6rnnO8fAdPud6fy0IGGIzs9rqbxnp3+ffRZMM6vFHUh3tydbwC9UeblrdVXDMq/a4AUDMI2V2qqr8Llmrm1IobSphVLs24iEvE9605kkK/OH3Xg6Q8Pqgcs8+HwMEPmLJjuZuVnXY75rAUqHY6TQseEdR1lE3Yfamzd6c5PH0Z3jNTbLipGFPaqo9FlfqcuvBUG4/2pc7Om4/2pNbD8fy8GlNKuWqeYAwzZ6/CPY7lW1981pZhm+jcrCCUnVI6x9WdesugmNij9XdAWTkmag87YIwrXQeMJ0q3XV36/bWDTC4l+FqgHK6D29qW2cSi8soIAh2WsAzyrsa77q260UAMa029gpGn99gDoWcsHhekiCJtUf8PDmnwbx6mYAnz+MxgBCNYWaVuXPDZ7/6Gi97HUb43eE/+Peo5tDFoTGeyLbyjrWhyFMFx0PVHnfQHgEg5O0UK1tSVnJeKilBz65JIb8p+e0tye6sW6r3rCCnV/jD4+UASYPs5bEUN+EwrwhWYl75ikIZ7k4uq6t2RhaXnsri4lNZX19Tk2fTQBImKgmC9PPksfQIxyGwrDBjfSwqOX/0JCe3H3blzuPncvfJ59F4YWB5tNiScqV6aDVkIOxoj1IxY+W53GjXIB3TILhdAUHQPKTXcJ3gXcITBv+goQKco9RekVJnxTQJi1pvSuTfs5PxNk4sSl4zs4w0kl0Fz3S3F0XN+wZANBSaA/DSwwtXsgPC3csxQAIAZgESz2cQ2liAv2puZ+fZPzdrbvHZvYNsiX8UQJK/P3jL8OK1VVPlhvuyORJZVoDAPR4AEAXHXCsCSLm8LQQLC4UNqdZ2pKFaBHu4rIRxO7Mq+aJykURbnG8zAjCSfGX2nACQlGaKzKpQT4JpxR9FaHr9jiw+W5JHjx/K7dsLcvfuHbl//648efJIV8TuoUn5qnHUxIYbh2lA3Xy5Upe797fkwtVtmbs3OgCGPT4GIHvyeKktVeUiSYCYBnlOEU/fCqjwZAE6vgPhw3OEoFra/NDTaoIwOrENQbyBzQEeJtzHpdaKlDuYv9vOGaYUdflcsZBgItGMwc2bSBvsu0kUwOma0UFgrmTVZF7mGxProwAyO+L3XiaQ/h7ZyF40x6MRfuqAbAHi9+HKJcXFvVWhgtSv9dUA+SYjgDrcE/uPxLlGQykNJhYxX1eALKl59ajnnqvbSYDg+sNObfQ9w9Prr/FmZZWsZySf25RKTYlfJ3IZHhLyl4/DADnK3IpH8j28ZeREEb3Hc4Ino9msy052RzbV/Mvns1Is5hTYWdV8BanVKiZUTIAJVmTDpm9scqLCOEwcSbdAczRVO5Tl8o2cnL+SlyvzTZm/P5Ebt3ty405Prt/qyvWFtvKRov6ugglVuH74DrgGJH2gRD4IH3yB1Rz3cKdLtxEPDpIXxjlWZz5x292Irp5LeTDeqGrbTSxiHmQcew4bjTJcC6E1AMB45Gki3lnEYxb+H0OxmoMALWJVjCOyBsJ5wWPlIAj/JbxOz2k8b/48FMIh/H4/3F0LKEkR8deDaMHgP9PgL5hVs6bc3wOSo+65/+eBNEZj2Rm+kI0o5nGgPRQg8wqOmwEgaaFODqvFbu6oAG5JvrBpqdXtgyTFtLAngRGDwbqCjNx9bG7EQ+dzrVBXEl2P3KGogwgmAhNDNV2pnJfVtVVptRoHN9lvtAt4mFTcrlTq+So4eyOPBkicY8R1Bqp6s/m6gqMhc3e7cvF6Wa7crMulGxW5cK1kjwCGx6tzTbk2V5ClZ1kVztEMQBB4TBk4iBVCRcJp0elJx0l1v2I5UuFG8v2hGcPBf9unutJzxOrdTFQfnzW+YZwhik3gmfLiK5IbMd/gGO5kiOMYDpQAEMuxmrrZFdr0+Hk+H2mAhDlMzyvOEzoYogGS7tn4HBduBxjPw/Wjz0cLVLLRXNB63wQgyd+THOkFi8Wjp+AknWRr9KWbVpH2wHtl/CMCx9cCxLSJCne9ozylTJKcJ77FQIiTDu0xyuVKercABj7+YnHLcr7qNFeLzpvVIPFnQsLiaEqUOaRdQ847UmvU7Ea629EnLUxymBQ+g1AiLAE4TDZCkp5AjodGBUxeu92Wja2y3HtUV84xlpt3B3L28o5cW2iZtjh3OafPOwqUsr2evz9WgFTV1KOFaFtBMXtDPF2E9HEX0PF4YDEIBNsattHFcI/AXHQz+Z2Rc+AgfmAa1KPd1KhQGjyY+OLhpDriNbiFo4InQGZViCQcAhzTJs7RgkAmNYrVxI/dvZwUyKM0RhowxpeMWBM72ZfnvB/xieR54ZphMUofD9/38l6+DvCjRvo3HsxnAsy2+KhZVxm6aUW27lPAEcU98F4ZQCJwfD1AgpDj4WrtSCG3pUDZNHPLiqACQPT9Zo8ovNrIVbJLvcerRXu7WSX9WxZ4LBf1GoUtS22JAeJaJgkqemzh1jXvjAmJCwouOe8VyyRS9DQwT4/lB0WTFyYVQbSOIeNQhOQAic2HACxuGMI4tO6FD+4ty8KdsnKLXSXkL4x3nL20Y1oE8+rmnb4sPJjIlbm68pKiaZGL1/Jyc25d8ttk/LqgYGd7gh2ltB17jhBi71NsFW46zaGTXSmD5jGhP0gOdADwO0lVh2d4Go4LpwuR/6/Qxyo8tzp2S4Ts2ghmaFJwvaTWm9eFjirh/eS5ScE7OBaZSPAJ0kCSK/YskJJCPgsQnwv/HzTpxjzEBOt2Wmb6dVq0cO1Ip4NbeqDzB/B1EexSouz1LP0eZcI09vbXs78z3OOR8raxbKtpRTrJYuTWfRhFzQHH7W+lQcJQADRU4PF0QebJ16p3SKl28FRaGTPBzPuV27CIcKUKWDLW/ICqum6PzuZ1Kefo/OcluAx4Bo94rA4AQl8tPFcGjLCS0nE8YUopQCh6IjXC8qKmUbQ9EjTvpoKd6z2mbLIADi5hmrsRJDMfvdvr7WZTnjzekrPnF2X+3kDuRGT81sNdBUBZTp7bMGDcefTcPFfwkPNXcnLq/Iacv5qT+TsFWVnNSSZTlNXVvGxuVmVjvSwryzlZXs7q86JsZwpSzKn52HZvljWzQxhTBURBqJykRxkEAQAHJlUQsFjQjhLGgznU/2qeq8ilGwTT5movkGZfkJLXi0f6tZNtwOFzO2vOJFfu2d8UwDD7Ovy/zIbKT7Eo2cy2LC8tSamQl8ePHlk/NZp304WTR3oTr62uWHccrr+1sWkgodca/Yvj3+/zyMI6nKiZTsxj9IVrj36kPbqx9gAgxkG+CiBHcouIuDd6WSlXaRG6YdqE9GsSHQtoFtUcVR1oG8BRKGSslttqCrCjlag1K/SLKig5pbjIG19DNL0gq6gcpyDd3ZK14rHy26iJMn9yjFkQ/viLibk2SY0gTmB+/kndrknqBILkN9VXV4tR7GPf92wFJw9qFHUbrJYrehO25OZ8UcFQME0BOO48eqHPR6opCnL89LKc1/euqlk1d3dowLmqM3ny3Lqcu7Itc48qsphty91nBeUrGQVMXeZu1/R5Ti5f35abC0W5fTsnjx9uKkiK5q4OAhQLlOeAmYYzEygmy64pZvnBrOAlV3gXjPh8NJpqCV0IWnXKfFsSOssEMHifrZjQvxQgkfkD3xiPaBPkGikNjhggaXDEvyv8tgASTGcEfEtBQv+0+etzsrmxLvdu37H+aedPn7P3r126Ik8fP5GFm/PWUw2HyiMFzXYmI3PXblqPNTSPLwIezR+pBq+MdiUz+tzcus+Grj0ASNAeASCkmHwjkp4ES0ygc9akuVzf8viJgoXUFLxhQaMwGnjHunkr9GECbMXRmz7sdaVaLKlQqh09xIVLnUnfi7F2aeTmVYvUVhAgHE5rVjdtkWLMhcgzYt0SaQK3S7+rlpF66687LFmiIM3S2HIAsGDWUL9hK8nEzQ1SPTq076xW5enDFbl6I6uC3zdtcXW+aabUtVttfd6Qyzdrqi0Kyj+y9h7mlR1T4HxyclFOXliV6w9L8qyxK/e3O3LtTk35C0HEXeMuXAPtc+u+AutuQx49KspOhtR3mrt5zlOYH3hA4ALBVAo3elaw4uNJIMXC6qZF+M+Nal0ym0V5+jQnS89KyierJlihvdCBeXXwfUGYAyA8gOeACEFQN//SwEhqj1mA+IKVBG8SJPxWeqLRk5kdADJbW9Js1qy5Of3T0CK57LZkt7etGydAorca8S/vzlnU93dsWwhMMa5tC6vOZX1MrhXg+FLNK3frHphXEThmNEgaIHH0OnQzOSrQl9AmZP8OcRF7J8I0sEJfrHFEQF2o8cYMTHtgetUqBTO9KI4KHQ+JKHvfX8/9IkCGdkCT9KmIY5VLrkhoiOdDA5NxocG2mnzEdEj+2zQ3artZtmYJYcXE5kaL1PRmFDZ35MmDFTl/KaOA6MiZCxnjFuad0qUEdy485Opcw8Cz8GBq4Lmir8/reSfOrsjZqzty44maU+3n8jDXlxsPmq6BlMPcuN01reMBRrTSvty615e796pqfhWlXm+a/z8IDGYhAUQ3Az2e4QIVhCr2QOENCvzMzMXIPAoCCtDKpbKaIlm5c3dDbsypJrvdkGvzFVm4tSbbW/nIZodke3FYaDlkxHsCNxmZ48EAEQEkgMa/67D2SGueoJGSWukogLg7PzGi4igHsKfdo2WcM5EIivctxMiYl8jhYIuLm5cTfayPKKF9cQCOEBRMaw8DSCIGYgCpE6G1TWReFsz79oMUeSubjbZJCBOFOUXUl9wiNpopFDPWH6o7qFseENm7B9nCpMDY9bz+AU3R0c+1Bso54BsJjwbm23TfGy5w7Up9QzkQJt6abG4/ti6DnQ62atzjttfuSGlHv6PWkNx2Xk6feahaoarmUt4IOeSb13ANtMWlG1W5cK1owAAgtx7synUF1Pmrebl+rym31xqy2lGAZPty/X4AyHMDGEC79WDPAGMDHvNQ+cyDtjxdrCpv0/80QEAh5qHvLqTaARIEKAhUUrOYhrCgYEzOiTkU82XlVOty9foTubGQlzPnV+XMxS0DOo+XruXk1p28PFskrSgrO9s5NVHysr6+I8vP1hRUa6p1aq5lglBHiYNByJOASIMkCZQkQGZHYqGzMQuk+Drx4nD4GvG54bs4zxYSHc3JroNjOAsONIdxj6PMq6QXq05fWh0N62zuAsnzxugIHvINR4jq0j0kTBJCDK+wJg1qPtmGLS22ByhLvUzzgrxvDxa5gG0/DuvfhKmWs2o+a8UzqutrTw4MlXCuSeAn3gCN9A1MqnJeb/bT+2rHLlpXEBegibXFbxTrao/XlYf0TYWfPzsv51Rwbt4ZGAAIAgKSc0rEAQhCfvF6xTxavDairudduqmr8ZOe3N9pyVrvhTzIAZCGmld75iLmM5hiAAzOwnXgMAf5XA+G8uBxXdY3mA/fYs16705pOo2p5aZCEiDJVRcvlYPDgdNqNuTZs225cvWRXLi8LqcUGJcU8GcubMsnnz01U/HMxYw5Fy5ezcm58wqgG2uq0YqqYTb19SM5eWpBrl5e0HtTtesmtUAaHEkgpAGSFNqvHmnBj93LXCM+52VA8sHrg0VEwdyeTCUbaY61ofOOQMwtYh5pjFvRWOjMag8DSEuFsamAqI3Ya08FU1/XRrzOqmbx10Hwed4asx2A84w0MA4AYvuHOECsk7ryDFrqhO4ovjdg01rxw1EoJKqy6xT1EVY9lzNg1DvbUixuSj5Pz96cdTyk7T8kP7+zI/1+iE4r+R4MpK3mSqfessKmotqi+Z0NtV2fqobYlHJOP19tSK2o7+lq2a43TF1jWmDnPn7wRC5deqwrbMW8WKSQIMyfnFqSz86uelBQ+Qfjsgo7gUPMp4s3yjL/pC0PC11Z638uD/M9uXK3EJ3rgLAYit6B63o+WufKPAHIwYGWuaXaZP52WR4/zUsuH7QJgu/JitTCm5YwAp90VTtQAvAxqVaWt+XGfE5OnFmU0xc25ePPnpiD4cylbfn01DPjQ6d1Ifjk5FMFyaZ8evKJ/r66/p6eHt+U4/r6+Ilb8vTJqtWAJ4U1CGcARHIcAkbkmfNK1GEUs2EkNOKMN+swYMJ100Q/ADb+fuc1Pi9cV8GhnCOAYyUR74BvAAaydQEDA74RRhIcBxzEAVIwADQnDpY63fgGGakqUGrKMWpjAIO2KegjI3oeNJAOrtMy04jcoJqZPAx35ZYP8qt47Q3iKDRqGqlu6Iqf386YYFfKOQUG5b/b1s0QR0DFugfuGMFvKLHO7WTscdjvmblULykHqem19HmjXrEGCbW6/p8WXddb0mmo+aUrdEtNKj7HMQeXp7Q36lXVNDty/96GXL6yrgCoyTk1nz789L6uvE901d0288qi6aoR4CkIPcJ2RU2VR6WeaZB72aacvb5mEXe4C5oiHoAB71fDgBMSHzHXMH1u3KrJvYdVWV0rSDZbVNMrL1uZDTV7Vs2NWVVNyxZylqKRAIgJhgKqrAvDjZsr+tsr5jw4f6Vo4Dh7Kas8qGW/H2cBWvHEmRU75+zFHQt2kkYD2C9ey8rc3FOdj/rB4hOEMRbQ2KQ5CiBkM9tmSs9HloBpvc6mDRtkBPC7iWGRWWxVownhTwImvm7SVZzUHEFD+RwwJ4CD4qfc8LlFytEclM4CDLRFcOFeb4hcrYtcSQxeX9Xj1xLjACDVUUkfy2peMRQg420pDdelNNAbM1Kg0M917CAARE39XOAvZpIdjIKCpWCPrWgX2OSg3hy+4DfXG8UZgNiUplZRc6ssOxsZ2V7bUEEuS3+oABs1otb+7qLsQLBVk9QrNdMI5R3Vfo2WBatMm0zbntEadT/nmJljEYFDwKy7B1Hj51FQTt8bDXqSVe1y4fwDW+URqNMXtlTIViwO4iknNQPLaV19AQnHz1xVAryYk6XGVG6tV+X0lRXjLnCNOPPXB6DwICNapnGglTDpzNP1YCy379Zk4U5OwVLWoZrr+rJcuHBPbs0vydOHa/L40bIsL62qZsxJKV+wLdkKuaI8eJiVU2dV6C+5OWVpMdedSwFCQApAT51bl+OqTXBR45TABDupJtcNtTlu6fcWciVzFsSa6rAGSWuMeGBO45Kn+V/HFkFyxYbTujULtJoTWispODwD2XPt0uA4DIJZsyoMXocUfRw23SngeGGxDsAB3wAcgVswAMHlmsilampwTMflejwMIGgOF+iKrv5VNbUAi67gw1XVIquqIUgxOcxJzORKDEDj4HGNAnjQKAT+AEbQHIGbeFkr5JqEO5ofKBCGDSkXClLaLihX8FwjMlo9CU9NNbXRB2p6DEihUFMEjdFttm2DzpDmweplTR+i1Sk5yTzi87cKPyXCyabYBL4q5ZpqkGVZeDhVIr1rfAQO8dnZNXucV60AB8GO91yshpxXwntuflWeVAZya0MBcnXVzC8I+VEAARB8FnMLs+vGbUj/9IDE31KgXFUQXV9oysL9oYIpL+dId7lZNO125txjuXj5mczPb8q1a0+VQzyWm3Mrcm2+pEK/Ziagawg3o+AbxHbQFHAhAP6ZggMTEE7Ffzh7eVuJe8YCmp64GEy5kHoSr+CHQZHQHjqPNAIPloMlUtLz2EqnvUsM22VbFnJUyv0yU+sogBwCB9wr0hw9BUd+FGsO+AZcg+rAYD6hOQDBxeo3Gw6Qg/yqolWoQaSbk20DSGW4ps9pPEbRzmG+kR7OWQBGxGUMJHimytbqE+E9+IPmooWjuCqG2NNqp16uWv132AQmeGime+zzMbXOJngobM8+W/3dFAgTGprCMeEHAa5oQnk/pHy4CzVeDfH1N2rKG65vODdQoQ2c47SS3NO62t5S4MyrALMqn1aQkLSIcF2Y35a7mabc3VbALGRM09xQrQBZP0iPjwDivKRtsRIn689TYHphHIVIPd+PJsCcAzgXrkGytxQMyoFuNZUzPJYTpx/L5et5i+jz3kU9/8SZZeMgAIvfeFk50zkl6GiNAJKbd4cGHrTMpetZuXd/XTq64ASTxUESHCEOEOYzDYokOGz+1cTafc79dC0RulX6pkVV6WFZ0LkSZ45qEiyJtOZIA+GoY8EdzHM0R36Et+oLI+OmOQBHxDWCZwpTKg2CrxrHGqop6uOtQ0LeNC9S3jaQoZGbe6DidJD0SAcUTSvpcA8Zq0XdtIVV3CWE9iAxDbtVwULuVE1taTxM7puP8rH20TYIPsCaXVF4DPZychLDjQsNHsJken5SvCVYcpVCQBbmVk1zsMJeX+iYqYVAXbheMs+TuW9V+DnGCozQXVmoyjU1h+aWSxYTuaJk/4rFUlqqBYjMA44XKpR9E1a8ZUdpGIY5CPTOYsLhWj57OWu/h++9rJoFE414DAD+8NOHBgZAfCbSBuZcUBMLoPDb0VSA4LOz60rKl4yDwD/O6HVdg9RUG22Y9vR5ccLLvFtsJNj4BpAU30jNoQ0zs3DMtL1bCgskloRx05I5a6yRudX6oOWDBpnVHklgpL8jxDvMK7k7tZryDQWHtevpu/sWL5VpjohvML6N9jCAVEfrKsSbBgjAUhtv6uO2DgWIxTMg2HUv2tE/lwbEVz13oOD1qujksJr0VcjRGK5Owx8HHDZUkIe9vqWj9Drs2xf26OMzUYf3RIaor2zxxIabGCY2BoibWSGAFM5PTzrH8PtvrufVdFkzW94DgwPjDNcUMG4GPTfgfHZm1UwZvFwXFTxnrmzJpXtbci/TlpuPGx4DUeEEELh7jcOoRsCkQnskNUusYV6Y2UVwETcxgk9sxgj2fTRXTX9PzzQPrz89tSQffHJfjp+BnNfNlLqs5/LbAC6/D6C4lqjYMUD3/sf3DCwnz63K9RubktmioCvkYfkcOkjcIeCm1uy8vkx47bP7eK76Vi8POWd3YGpaMLGsunEvdPA/2rxKgmP2O2Lwcv9706kUreHCF5Z8GHKrrOlCIORN5xPfFhwGEEwoXLaYVTyvKDHHpAIwzTGPnkJCtwuybNOaYwYMiVT40GyBgGFPJwcN0pvo44S8KwXLFPNpbN0/rJyWLiA6KaN+X2oFBVSr4ZFkcoT2iMC79gg3IgZFsIs5FmuRJADCZNu5UbArgCZ5E8Ln2q2W3Lu3rBpiw1ZyiC0mDoJ+97GbQ4AGgs5KjSYBDJduluTCwpbc2WrIrTUl3ndbZvcTL+GzCKebOBDnmh1PlvBa9rCaPWgu94A9t9cI+LnLeTtu6fZwF9VgDryyaRA4EsfQHlwbc/DU+XX56MQj0xiAErDz3skLG/Leh7fMA3f+wiPZ3MiZSzeegwCQ4EIO2mOWFyQFd/a+cB+IysMN3M1vZjTuXmu8EQCRHIdBkX7Nd8TgoFWRdyOhTWho1RMi40lvVQBIWvi/yThWHqwIXdZBeM00iZtVvvpnDSy+wyvR7VlTynaBJfKdAk6oJScy7htlViIvVsk0UkdJWmtMSgkquKvmG1sd+GRAtolj4Ir1FpmsRHRen9gmOodvBp8LADk8ybPnxa89ABZuQgwwXpO+kMup3X9tRbWIR5/xSiGoCCmrObzgrAprMIMQdhv32nL9ka7yz8qysKyfe1iT63psQYFigq6EGwJvWsK0ScxT8GL5sb5pCDe39o0zeCS/FGkifwQo/B4HEL+FgKQHJgHOmUtZe20uXH2NSYY2OmUAmVeutaqkHHB4Yl8s+D5fIfj4Ms2cvBfJeY7PT4yZWEby+dHgSI74fkcubR3dKWbVczOrIONoDYBxwDkSpPxv1R4GkIqaWB0FBFqiOsS8IhfLa50J+M0KfsqcilJKiIxjX4a9PyD03vStdZDK7gCLrsuxMR4zHz1ysaIbtK+aolVpSLPqW4FZJu8eUfjDAPFJO7zifN1k2w2JOAuTnvy8D0plh7K1WZSr1z0mgtfqxOllE8TLN0hezJttj1cLwTUeoufh/bp2qyGX7jhpv72uYHmkj4/3bXVHWNFIcJn5e+MDNy+knEdLS9H3D8wu01augQj2eUSfhErXMmevOI84q1rshJpVgJWcsRuq4dA6ABPg4a4GzKdUs8BVPvr0jjy6v6KmLKT8sGZgbryxXPBmxQAJ5ybPj6PtKWAkgBXP7+GRvk9HfY97rNSsmkzUrKJF6BeyFGkOwIErl2KnZKrIt/VapYdpkNpoS8pqXrnXat04CCYVXofurjdkTo+gXbyxAgFBsnHJpSoraaq469aIPYQfRwDg2zJXcAARfvHBlI6NtK3ZNfOn33EvVqsRmixHqe5MDmBITFhy8pKT/HWTznthQ0zbWix1fgBRs9mSu3dWLLoOMD49tWirN/wDIUXw4BJoFIQUDnBTV3+I+bkbW7KwVpN72Y5F2jGlEGgqEQHJnccEDl1rADSLragQY9IF7REGGgYu4uW+VdNcaBkAduFqya4HP8KtC4iN1N8NAJnY78Lde+FKwbSOmXw38rKyRCcY1x7p/x4Krw4cGykHSHx+UvBnNcLh10eP9DWTvyXc3+CEARxsbrM2+NK6r9Omh1qOJDgARQCIEfMjBP+bjmOl4bKUBstS6D+zx6IOTC0HiCcPxt3cY3AAoupoQ8/dML7iHdnbB9oEkPC8NdkRHAGAj0ccAVwDkFjHEgqWENR93/+BwB/ag20CbLth3LuWZsHeHTqhCXAkJzM90enX6fcACDfP9+KLc8aSN6XbacrjB4/l0sUncvr8hmXuskKz0hNg8yRENAamDmnwHlhkhb6soJpbbMj8Slmu3SvJzXtDz81SkycZRTfT6v7UAIIWQviDlom5yXMzyQDJqbPrB5oM3gEJJ2GSaPlxJd0AgZJg+Aa/Aw6EtiM7mXR9016PqXPpytrKllVexnPFo4MhzEsQ4rQGSc7lURojHunXfzs4+hPf+WllEHMOSzTsxoFA4xxEwes+CAimhf7bDANIcbDkABmuCK+rww3zVSP0bkodDRCEHlDxufoIV3FBWlOCjlvmOq6bV2xDyqM1u66DZCPSPBXL7sU2BSCTfRqlDS1fqpItSXEnL80aqSQdS3O25D0A8hUTedRIqvjZ4y4M6feT2mk87Mv2lnKQK48tJkHsA0FmnFKTC2GfV+FGIC3HyoTQSTSCef1uXc7Nrcrpy2tmCmEmecTchTQAAI2BdkDgCeCZBlBAYV4FEBF/wQt1isj9hW0j2/YazYCJd3bVtBhmliVEqrYKHiuO83swDdFukP8Fla61lcwBQMIcBKEOXitGENDk/CU1d/z5rwfE7PmH71e4drVasq415bLy23ZDWv2+5HtjWW7tysO2mp3ZlsznWnKzNJJLm8rziiO5WX8h12ufW6wDYIRoeVrov80wgOR7i6Y5Kiq8CDtmFsLusZCdQwAh47dpqSgr+rlnNsr6vIqZNnJTjdc2Rgy8Yxzn2qvSmGyreVVSUPjW0CO9GQNr9jywqkNS0Mu5ghS3cpLb3JFKTUn9YKgmnMdCwqae4308W3t6DUZa+OPn3+SmhBuTBAgmX7PRkNsLq8YvTIhVABFK+ACrtgFGnxuXMA9Sw00kW6UHcuG6k2LIMcC59Shohi8OBmBB4NEGn55ctOCdxz1mA4x8B9qDVBFMLS8FXjN+9KmaV+RdkZxoVY4KVPLIjp9aMmBY6bCahQQPIfVzd5qyvrpjqfGH5yl+/VXgSH8u5iFfP9Jznxxffvncep6dP39WTnx2Quf5slyauyXnFu7Jieu35e0zV+W14+fk02t37Pnr+vzdy7fk07ur8vE9nevc9JCg/63DAFLoL6kmWI20Aiv9yoH5lMzmNW0SkfSmmk4Iu2sgB4k/n33NtSD+cA5SVvgMn8WjNdyr2X4j3cjTRe4Ok0xWKm7eaqkkue0dyewUpdDum1sPHrIXgQKzDO/WYJd8H1auGBzJFS59M9M3JJyftKfD5/HwLD9TIJxfMWAQ80CQk2SdwinGBfKe1Mwy8+kxptPE8pzwKhHcQ9NA6kkcvDxXM40CMPBIBaChRY6ffma8gYBhkougBdy8wjtVM22E5gJ4p89nFIhbHtBUXmKcJMpE5jv5LRYUjPjKhasZWV/OWNHR7DzF/51jSdMqranTc5ucY/ssmujAvRsaaxyt0ePr+G9YXF7S+bwpn5y9JB+dvSyfXLwubx8/LX85cVbBcVZe/eSMnLh5X95SgLx99oZ8cOOhvHf5rrx347GcyY7lYuXLQ8L+twwFCMK8ZKs+MQ8zm0wzLPtqP55t9eN8hPSRrIII08nNsgAKrhVGMKuCSYUZhkkGELsWH4k8XOb9KljkFSGl9LNRy0uxVJBMoSob21XJN/vCBidhlbcVXid7uAfvaSrZx79+1IQnUlBSN8ZvZPwarw0b22DOmTC8IG9rJIWcao9La2Zisbp/Zqv2ttVWoFVI2QAsJ5UfkPTHys5wQK1Fnircw/4YvFYM4imYRJhVZrpxff0MplAyRsJAyDHBAKVF4klRMe3icRlrbjdHkmXT8sjgLefVxJq7578PkwzCz7ixoPO6uh0BZFYD+Hz4/KYj6Mm5C3GReC5jDmI9CKKttomme6pJyzdjiq6XHOGe1utVWdtYl6VsUR4W9H/kmjK/o/O2mpeTd5/J6UWdpzU1ddf0/+x05ey68sENnb9MX06uteTURlculD4/JOh/6ziGB8uEebBiGbzkY3HMyHtkbiHQbMICMFj9AY1F3ZXM+3kxQNBGDhA3u2pDtBDFWKTQAxBMMT1mbTNJO/DGzbiUyfyk80irVZO17S1Z3inJ0mZJ1opdyfXoYuKrvKVRP/c0agZlvdSro1HSu+DyPKSzpI/HN9mP4xCgVRCrpguD+/Sr1bpcuryotv+WmVXY+Zg2gIMgHASYCLYlH+pAWHm0eovTS6YxTFiVTAMuPgeJRrDhA7yHYFvHRsj4dYqrIOpT4x94vOjBhbYh1cSqGAkUYmYRD9HrzysIMOO4hpl+l2iVOrZr8zu4Pr/RzTY1/+52IoAc5iAxGDjucYegWdIgSX4ugIRWRtZxhjSTAxd/Xu8xmyL55jxpgGAZ9HanspJX829xTe4V2/K0+7k87H4h9ztfyEJN56A0kWtVfax/YeNK7Qu5XPlCtQXjS7lQ/sJGWsj/nnGsqgBwYV5TDUI1YNVWfAeHmllDdwF7EHHHHtEsIZHxaIBEJpZpIfiMBw9N6+g1S309PtDjY9caeLOYUDxa9JBa39mWpwqOlZ26rBa6stHZl/xwT1ehkZlh3ujZmz24CsfMcvMreZNnb/Zh4PjzGCThBodzEB422CwoH5pTso3QfXj8gbz34W2z8y12MUcyY81Wd7QD3MC8WnocEFGkRDoIEXdzBc9RU1I1oYYXePpI1Qg/HAFSjWZCo1hqip4PEDjfKxF3LWoPCDDd+C400KdqlhEdJx6CBsIlzWe4BjyE3+bggPegjXoKkB3TILFwx/MTA4T5iJMUk0KdBIW1FiL/apettPF+Ehz2HKxgebAQkmKS1jxDBUZltGcb2Cy2pnKvOpIHredxr9xEZDy4b6nV+Hs9VN9k2PYHCLqt6vZnimZq1aKgYW28ZXyEzVjQIrhqAyCS4EgCw66nn6moCdYw71bgLphlG1IEIHjK8GTt0WXQ2810e23ZzO7I062CPMtUZL2kN7H7XDKD5wpa8m4a5j6eqKYh6ZEbQ2nlKCLuoRfsDAiMl0RpJjMAebktHKLqZPwWspuyndmRixcfKcHdMCFHAL1s1bNlqevw2AgJinXjJ6zm1ljuupfpoknQHPAIPEyQ/mRaCLwBrXPjLhF5r4PHnCJ7F60Q3LPB68X7dj3VEriaqU8BtPAQft8bb12U9z5YsOf8Trxw/L5LN4nKK1e6XpD1FTex0gCJF5RZj1R6nsIxtl3wzN3mwU6/QWvEprl3quE8L3fwe1Yf71nNOK7bp/0v5XHvS9UaX8oDHQEcyWzcg+j4fwE4GMfQCq4JPGDYYqOWCQVP21EAEU2yZoABRLw+DBDcxA4Q4x0Dd+c2xpvm9o0BQsHVjppa2wZGsjm9wdtQ2p2GbJXLspSvydJWRVZyLVlv78r2YN9atpDoiJZBRVvtuXKOrGqaXJb+wS3Z3t5W+7VmXfeKef2+dktXyHXJbmdkc33DKvJ6vY61hKFL31F2cAwQFxDcyx0197a3cvLZyfsWiEMbuJco74+4VpU4AwTiHAT+EEDiIWgGrx8h4TBn4An16AEAxCrQEphDzjmimhA1r9AkFjM5ovCKAijeQxvN30MLkeXrZhqa493358xjhSkGR0pyHquRv55VgODm/eYAOfx+AEjftIOVShzyeLr2wEljBVL7aBA0PjGNPVkdfC6Lfd/2LNSKh3wqC/4dUQb7j4hvfNNxLCnw5nFS4SUXC5cv5heeLAMC8Q6LecTgCBrjwKSKAIMJ5gFEDwqGtqLWzGGXwhmyOX3rLwS90azKVqkkq+W2rOfbsqGcY7s90WvsymCPG4C3KvpMZA+z8tFEbGV5RXZ2duTJwyey/GxFlpaWZWHulpQrFZm/MS+39fntuQV5cPe+aoOc3L11Rxb1c6SaJG/0zCq579zD+knVlFDPr8hHx+/reCR//fiuvPfRbXPHkiSIloCTYMp4We2ePQc8RMXNaxWlkLDie8pHyUypk7q6o20QcK8J8URIrmGJiNeojx8bT0kDxFNQBgqwjF3/5p1hpFFGZvJZjpgOgBR4zBXiOGjAM2uq8aqyrhwEN+9RIEjPS/L47Ptwjr41+zsSGBO2yK5G4OhbJndnuivZ0XNZDlojAY6QT5U2qUg4pBIwpKz/vfGNbzqOJYXbQbJqQT68W6ShoEncu4UZtm7p8AFUMUjcW2UaaOyEHELGoyU1ksOFDWo7RbF6u5Bjt2LGFGtqTlU78kw5B5pjS+3Q+mii3CTiGc893RryF1Y1eiaVi0VrMEYnjx3VFDQRo7vehmqMVgutsiM5BU9mk9Y2GdUqTXvOOGo1DIN+ujSW297aUEAtydkLqybYxBgwVz7+7LGBBHcvNd2hPBfTKRRE4Y06fX5LTR73ZGGSWUQbL9aCd0hB63AMkKAtghcKjYPbGDON44CNzyVTUAAShN6TJrNy2nKxVuw80mGsznyOOpbMgRsaBwEah/NuJuIgRwEhDYg0SHgO/6PGHM5hjftSAGHvRPilpb5bUdxYwj7kS2iNqKs66SKWbNiNmymktQbg+K8ERhgHAJnVAg4AgFC3rYQLZl5hGqFhzBtlppcTdc/jInaCxvGIemjK0N+ret4W6fMRj6Grie3LPepJtaJCXSip5mgqIe/IWnuqv2Okk+t9smIXITUFlOwGgHkre9uYRVf7wZB9BNlssytD+u7ikRqxQ9PItmvzTnu+7wfP06th8saP1LRqVIvy7PEjOXfqmrzz1+vyjtrzb713w0j6ux/MyV/evaqkeMFA49m1ZTObEGKEE0B9dPyhA0VBYnUZZNQ+3DMPFjlZpk2ueW4XgcFL16tmurnHaSw37w3MNAMomGaH3L6kkygwLGio1yY+cuIskXTAtHeQ4+XZwx3L7oXfoEVu3m19K4AkQeJbc5MiRI1QOTKrZk0reAipShB3PkslaI1tlhUcmFRoDPbjONAagYgfAQ44x7etBPxHjRRAVCNEnKJk2gRe4gCBgxBMdI9W5OYd49mKiDef7/s1LFVl6lunIeBE3QGPgyxjWxOPJh1pNdS0WlmTtWVd9fPKGdq0atnXa7dt9fE0ep98q0ibsplnQ0HiW5Vhz1L/7DUGQweR3hRcv16DQInu7qH0FEbaZckAQMRC2mryrSwuy/mzc/LJ8QV5/a0L8sdXP9NxXEFyXT745J49vvvBvHU8YeUnio2nipWcgCDluH/9+LbVY8BbKL4KXinr1KjScF41B94oa/CAyaQcAWEHDK4lnttnrCZFTSWCkKYNrpBiXzrgE3yOgcnHd3ktyZ5t24D5Fcg9HjOAB5Dm7rwcIGltkQQInkbbEnyvqWaV752Y1hwBINwLb/nkXqo15RuYVAaOblT1F7XgeRkw/qtNqvSYAYgF9Wzr54IFB91Nu+YRcBVw8rUAAdoAwtweEzMhU5f2QBsHHIVzrcjKCvNJWeHz7tmi3qQ98C2J65WSFDPsF96Qck9J92BXrzWxYio8IvHqFCY9NICgfNfPARSWTWzBQs8mtu7wVs5Jg+tpIg3l8I2PQUIdCC33G2qCbcu5swqCdy7Ia2+elz/86RP59e/ek1//9j3582tn9Dja47Z5iT5WLoJQQ9bxVrE6m7vWGj2sm4b560d3TFsAJNyvmGgAgyIszCxctYAB7QKAEPZQbYiwn9NrOemvGZhCnAWugdfKvVT5g7Jb60L/mO4pDXP72mY/+j0WF9HP4USYu9f+WoCk5wpvIE4S8vS8/Ppl4HDuMbRWsiPrqL4WJRgmtcbLSLiZVBER/+8CRhhRsmJEvAkWqsYgFtJXIURbmAmF5hit2jl4qxoKIlbvwbRhvMTNLM5ZM60CEDDD0C5MJIBCgwCc+lDB1N4SNg+lARz9rGg+PKRbyYTKQUbPynyNw6RvQsRnIH5sOxa6ZXibGe+QAkCm+2z86QBJlummV8XkIILO1gSLT+APGybcv/vjx/LLX78lP/35a/LzX74pv//jJ/KHVz6V1988Z67Ud/560xIIEWAElYzfD088lo9PPD3IrQIglLdyDiYT8RQ6lSDoxEtCBxSIOlFw0tFDoiLp9GT4kgNG0A/g3HtK/tZzM8vQVGgpSD3nQswxvSwYSHrJZYDYse/gOmgPOtYTB/kmAAlzFp7DCT3D+zAwAjh8N92u3oeR5NUigIw/6Tk4SE23Fp8vMaeuMTCp/ou8VF83jj1Zn5NM40kEEDxVK+bBgpyjOQgeurs35F2RDp+xtAGAhGYwzhI+O6TGXU2w0Y6RfWshOvEAY7G3LIXWouQrK0qqVyWXUROtWo560FJ74LsowTUOAWNCSW/OWpNS+juYVA1IVr4JiVdVDkDGOujBBGis0IrG0EeAAc0B4SfmEV6TVpLfycqnn6A5zskrr56Un//idfnxT1+Rn+j46c/+rID5UEHykbz6xlk7530VfnpMfXTiofKTh6o1VowHfKwgARTkQuH9+uDTBxawwzTyvUXyBhi0TtAgQcA5Bu8ASETNiZ4bVzFTzF3B7umqGeEnLwuTzbjNVdLxvdTXWgtF5hsjOA+Ius/rMn6UFysJhvSiwlyzIB1FyGNwYFr3hbafO8PnstL/whq3hR2c0t3TZ8ARcY3/TpMqPY4dP/O+LGdvH3LbOkn3eAZagmrD4L2qKmC69Nad0IVx0zQDwIC3ABTXIMRRMKm2DSRsW1zsLkm+owCprkg2uy7ZnTVp1ApRY4aJbXHA1mLs3hqDwmvi7TWPI/YubB7sGxJyhYIv3lrMTGpSb+Wl2WXPkIGCJcoPSjxSCMSORUmzq16tyWfHz8ovfvmqAeInCggDhz6iPX7+yzfkj38+Lq+89pn8+Y3T8uY7l61hAhoC/sEjKz1mDtqHRwqbTDCVqH9y8okFBdEiHmVfshXeSnVVkBFu6sQh9V7j4d0crRSXBEeLeYxN+HETo7H4HMDA20XOFfyF94JJN1NX8mg/8mrl5cKVjKw+2zInRxIUSUAkh3eV6ZoJe9TiFcAxUhMMcGwrOPBUAY6gOYILNw0Oc+H+F8Y2vs049mDlpmmQWYDEUfGgWQCAgyACjhJua/JgZpUDgbwr0kg8lWQtaifE9ghK5Af6Xm9FCu1nspV9qqvXU9nJrEgr0VSaR4SfgFMg5j75RGYL3jZGgRkCjF5p2I3Iee2An9RaBTl5+hO592herly/JHO352Xh1rw8fHhf7ty5JY8fP5SrVy/b86Wlp7ZjbqmgQnXqgvzkJ7+VH/74D/If//kr+dFP/iA/+OFv9PGPZmb99g8fqnkFQE6a9nj7vRvyzvvz8ta710yL0ILnE+UXmFaQ9uC1Yli5KzlRagqxwgMeWu9Y/YfyEYCCO5hgJJ0cLSWF4OMd+gTvH1QUejpKqE33hEjAQJIkgABAAA7T66iUeSsVxqtFHMQi6XHdx8sAQrwKzfFycIQeBF1pTCayOXgui6o5wsaYB7s3RfGNNDj+nprx/93jWLHnnqfDAAmv3aPlkfEQdQ+cxUk8blwqEPFO1QcZBYi7fw+6odD2Z1iVzqAipcqmLD25Jw9uzcnW+qIMes0DgISgExrAtQGjbuac5WuRDUqwac97N3E+fvg+Xd/1JvEZyHurVZFTp07Ipyc+lj+/+oocP3lcLl+9IleuXZF3331bPvzwfXnllT/JqdMn5dNPP5YHD+7J9Wtz8pvfvCn/9v2fyff//ecGkB/+6HfyHz/4tWqRP8mvfvOeguRt+c3v/iq/+f0H8pd3rhj/ePPty/acoB9aBGCQf/UxndSND7D6t6M0EO9yyDnHrbGbp4UQU3n7rzfk/Y/vGkAg93ifMKHCblaca7tcQdgPGtbhFEDLYIIVD0DCORYktGYQsVsYsJBlzDXxYpGsmI6kz4LEG/A5OI7mHQAG4AxVu7TUnN1ScOCpCrGNpOZIB/8Yf0uvqv/KYV6stHmVHHEKSYh5OFlnEEisq+nVnuZtBe/TttRAoiS8vyGdYUGGk6ZtR9DvN2Uw7Egxvy2PdeW+df2CbK4/FrYuDrslWfCQ6LqCxHK0cOPaJpdRj9goh+fgRj53V+94Sn9fBdK4LcViVrK5jBRKO6qplmVja1myhaysFSuWQj13/4FkdtS82FyXXDGn525LJrMlH35wQn7049/L9/7tJ/Jv//4z+QEA0dc/+OFvzcT61W/fNU/W7/8EST9uwHjz7UuqTU7JG/p4/PSSxUgwmz78lITGW1GEvWICDTAICNK/CgCZt0s1AZqHz/9OeQ3Ae1PBxufRDnCIkIcFuYbPOG/x6kQAwmsj+/NezYiGAmDEPNINIELRlVUhXt6StWVKbmOAHKU5cHqkNQfPvaMN3XBoUt4zcGBWPVPNATjMU9WOthU4wluF5rCEw/+m+MY3Hd8IIKFmJIAlPHqcZNN4gtWwk0yoq7/t9DTcMXdur1+XTks1Qb9tEerc1pbcm7smC3OnlYcse6fyQytYyAGKEgpTnUvCMG3Dtm0T1Lt+x6glK6uLsrSypFqrLr29sgz2ML16urJ5kGqtqTxnb09yo12hdcx4Mpalp6vyu9+/ZRrjP//zN6ZBAMi/mSb5tZH13//pY/n9K5/IH189YV4sXr/65lkd5+S1v5w30woTCx7y/id3laQ/Oqju88xbOIVzE9ubIzKP3lCg/ea378nPfv66mXPwHOIuJ8+vOwmf96AhJtcF/Qxgo6CKACDvn7norUUB07V5dxujTcjB8pwrducdWwyEYCH8h4TFawuVlyYr+jyjzfEmHnaYYOp68BZnyEBo+7kzUs4xcM0RuhoaMJqHU0aCl+ryEQL5P20ccwC8DCCAgnLcw6DhMUTbvTvjlm2micZgUtkVyuIdPSXzzZKllLCd7+bKijx6cFOWn9223W7jgqX4BqUBE47NPD6nlj2QRjiKmgAKiqJec13Jdlm1VXnYUI5UkZ1BXzaGn+v4Utb7L2SHrhg8dqeynqvIp5+ck1/+6i9Kzt9UbfGKmlW/lO9+70fyL//yPfnOd38ov/zN28o/PpDf6gr/p1c/M4D4OK6k/YTFSuhUSOT8r2ouvf7WRTW7ripQ7lmcgnp0BJdV3/nJiq3wgAftgQsZU+7f/+OX8gv9HR98el/OqHYgvoKQWwIiNSORljB+E5lKnANgAB/nAkYrqaUl0CXXMHjX+F4rFbam22wuWjgy3Z1hhJwsCFLWLVgbwAFQMGVr+r5q+f2RgYPg7rPBFxYADB1GjjKnGIDjf5KX6uvGSzVIrDUAyCxpnz3P+YvncHmio6WHTNTkmbRkOGxJo1603KZGpSqZtVXJZ9ekqYLMZpqxSp9V8YcAccQqxw0aTDv6nQ1pjluSRUMNx7LR3zdbeGOwK5v9kQKDjVTEh4IEoPB8vbMv91ey8sqf3pZf/dpBgCkF5/jXf/2h/F//9/8n//L/fc9IOtwDko5J9fpfLpibF4D8+fUzpgXe+WBO3v1gQYn7dTtmbmA9j6g7A36CViDLFvPs/U/uyyenFi2W8tOf/1k112/lxz/5k37H+1ZLDhAww0g9AVwXFQjETEJZLl4rA5Bqj4+OP47ytXx7uFDGS1Qfs4+0GIBhSY13o+4qV7fNxEoDxL1VngExk8VgJpU7QTzRlBgTDaP3ZTly5WJWAY60l2rGpPofzDeOGlGgMJhSLuxhpAGSrPlIg4RHL7qip1bF9i2HNxDjKBW3lXtkpF6uSCVftE4lbC8Wcqq84Ga2veVhQMy+pldvW02k0oi06YlqhT0FhHf3BgAbCgB71NcH4EiNDV31FgttJe2n5Xd/+sDMpl//7n352S9fkx/+5Hfy/R/8RL77/R+rAL+qK/tbqj1OGu948+0raloBAgcHaSdvvXfNvFlolD+pGfZnfe/1t86byYVGwLRi4Bp+A4L//k09fk/eUnIO+Sfe8rs/fGTgCys+fAbtgEmGJvJWPyuR6ebbHAAK64V1yfty0XkeLxWml3dR3JSPTnjkfu4OhH/PU+XnKlaTHpo2xHNOjQ3lzZ7JgHfKGk3v0dwvqt3R8/oKDnrirg7iOIdtgNk+AhxRG55/Js0Rhqea9GfNpsMeLX/u3U9SVYN2/ooRdktuVFOLCLv1ZCXWoPxjW4lyUYlzu9qwLdLoFhJuiuc/sTVzzwKFaYDMgiMGEBH30lA1xODzGa3wrYZ+Zq21K3PzT+Svp3Tl/4sC5Y8fyKtvn5B3PlXhPn1Ffv0nNb1+/Rf51W/eMYC8rnwDNy/xkFffOGcahQFIXnn9tJ6nmuj375sGeUe1BdqDtBRcugg+qzmahc9zrbf/et3O/8Wv3zJzi3Ms4q5ggFfg/kWDeDmvd5RHs4QGEmQTY3LRHtVKcNW8og49tP6x5nJ0W7weNY+gbJeiqWtZ74sVASS5IBlIIu/VxLQFGw1NoyTFqQz3dqVMZ0NLV/c4R0gdSWuPf1bNEYY1r/aGcbMmU9rs4vVhYMxyEAg72b79cdVWmuGwJ4XcluxkVqXXbtgWad0G+0G4kIfYB02q+72GjMfsNnRUK9BZ7UFkfLI70e9WgIz+BmAkAEI575Nnurqu5uWDs3Py2jun5Mz8Y7l0f0Uu3luW194/6RxEhZi0E0wwzC1AAUDI0/qNah04CblaP1cOgalmoFGNgjcL7YJ3CjIPOOAojDfeumRaiCDkz1SDcIzAI/lauGltC4YFynjJnRpZ+1Ir8b0Z9cQ6t2F8Ak2B0DOI4EPCbz8MqfEvDCRwFkwyOsPDXW7crstmioOk59yAkbgfDo6pVMb7pqmts2HEO0KEPM03krs5pYXvn2Eco7sIqSGkiSSBcRRI0oApUjNiae9estsYUSDliWoj5R+tphLkrRXbD308HNr+gN1WewYAmFZE0kdRH173XB2uZEveRFPxk4nVqf+9AFltTuX2g1W5vpSRt0+cl3dPXJaT1+7L2x+rAP/1jPzmj+/Ij5W442VC+I0nKFhM6NW8ci7yqQLnPXMD/1m1CEFETK1XlNC/Sb6WapI//vkzA8EvVRP94ZVP7HN/VA6D1+pHP4V7fKja5ZqlpZAhTESeSLpxEfhDlMKOeUSOFV4ptAUFUnAKOs3zWVzEIe0+6d71fUZyB27fWw8GsrmWOwDI0YvSLCckK7eq4Ngafq6k3IucwjbKlluVMqtC2sjFf1LtwTiGKoV4eU7VLCjSAEGDzJhiaJ5+6F6yaQFD8yiNldANqlKtZNW02jT3Lvt+0BCOx7BVmt8E1yK+UUvomxT2jUisZgc15VMZ7bInxJ7dqENC/y0GZtlKnY6DD+SjczfkD69/pObVSXnlzU8UDG+ad4mYCAPXLxF2W+nfPG9JiJhLAOKV104bf0DTvPnOVeUdt8wMg8QDBLQI5tn3/+MXFoj8jx94EPLHSv5/8rNXTfO8paYWSYckSdLWFHCEbd4sc5egoRVkeWTcs3Xp1Oib4xB4BIjevnTH0k6oVScNxfY4URDhGfNuKqS+92VjNXsQBzkKIOEYY6xgqU90zkcvDBxUAaY7qqd5B67cf1bNEcYxBI7c/rj0NgZADA4n6z68TalrjiiTd0A14aYCw7eIbg/z0u6WpV4rWK4VuxahOdAg0/FIAbJrZa1OzkNL+6A5AjjiJmMBSAYUHa3x1KrS0gL/rQccpDGR+TvL8sZ7Zy3GgWCzqhMkRJD/33/5N/nOv/5AvvdvP7Y4BUFD+AMr9duqReAdeKYg1wQRnXzf9zR5i5e4tsBF/K/f+5H8r+/8h4Lkp+bWBYQA7A0l7u9+uGAJjZaoaD2yyNnytBA6tOMitlZAUdtS621lLX6cg0DCiaRblF6J/aVrFSPtYdsEb2JXtdwwgDN3J0p3TwHkKJDQLaY13ZPM6HNZHniJ7FeBI5hX/6y8IzmOUWyEtyKkliTjHgEU+d5TG7nuE3/efSrlvoKir7yjl5Fqf0NqA9Ugo7yN7rAinU5NWo2K7wWooKDnbrNad4LO5EfACPvMhS21fD9C73JyAAo71wFEi5/yaNds4EMCH42NYfL5V5hgerPXamrbP1yXN9+/KH9+A8INQN60VJPvfu/H8v/8y3flu9/9kfxItccvFDholZ/94g0DBGYWHMISFT++a0JOdi8xEUDx69+8a+QeDQGw/vW7/yn/6399X36gwOMagAZyz/mA48Pj8A88V174hPBDvL0+vWSvry5Qf943zeFR81Ub8A5IvPXqUlPqoErxBs3uNi3/C3AYYEhFuZKx7u4vSzUJi9FUwdHd3bMa8tWhl8mGYqevAsd/VwXgP3ocw7wiORAtQJIhniq0BI8OjPgRgOQ6OtqP3dTqPrPkw2JHyXp3Ver9bQsODoYtBUbzYCdZSlwblbo0VYMw8WZSKRBsC4Ios5ZBI2VcwMO+f2ZmUDarg9qRXHdi7YDWe6pFbHwePb6QDR1LrT1Z6TyXp61duV8dyaI+rur5m/3PbWyEx+4LWS125d7itnx88bYCxCPmeJS+r2bVd/71P017oEl+/su/WDoIJB0u8gc978+kmfzlotv+xx9YHhWaBVMJwf99ROoByY9+/McIIP8u//nD3xrRB0S4gT/Sz0DO+SxeLz7/4aePLLMXgbaujPONyHPl7l2EnxQTL87yFPpbD9mWjXJeIukdJeMeE7kaRdjxbBE/sd2nzi7Lg7urMujhGDkMDrtP+/Ge47hzFwdePx42x0x7rP5P0hxhHAveJyt4Gri5BGGnd1UxkVriY9G0h4FEwZLtPNbnjyXfeSrF9oo0elnpDermsu33nKT3ui0Z9XuqPRrSqpOm7i5dgAM5J9VkoO93220zwwgm1ktl1Th10ziNSs1Ms06jaccaep1cpSPr5Z6slnqyXhnIRnUoa+W+j8pQbu+05JaOC2tlObGUl0vrFXmQU5OiNpYNHavlgazrZzYUPCs7DXn4bEc+u6w84bVPjSwT80BjECAksg2X+JNqFgCChiG4h0sWN60JuHU78XjH+x/7awCDufVHNbN+plrn+8o9vvOdH6h59XMj/Hi+AMi7H84bMNBCBA9JWnz3/XnTSMQ+8FKhFSwVXgWbJEhAgSeKREgew2ahFELxmh5ZAOLKXM02DaUQC41C2gnXIeUEjnP95pbkdiqmuV1juHvX++jSmmfXdnFaZS+OqMFCMK1w6abBEUpk00L2zzw8DnLgufINdACM1X+MQp/emKi7JnkageOJAabYXZFqJ2PEfDDoWOMEANBuVXXUlJj3lKCrVmm3FBTsb96x3CwGoKjmy5Jb35HyTtEqDAFJR8HUaTL0c3pOv92Vrj5nNJpd2ar2DBAbNRV0NZPWFCjLCphlFf472ZYs0M91syaXN1RIthvyJN+RjQqgGCpAANJANhUgq4W2PNvIy9y8mkjvfSavvPqJ/FSJ809/8ZqBgZQROAbCTvCPjFviFJB0L7l9asVSNHCAjBPHQBtYYPDEY+M1aKDvKPcgOs/zn/4cbxaBxxMGNK7JuZBstBLmG9ewGMgNNsyJdpGK+AYRci+WoqWpbxQKvwhAIsiIFoGYh2Ipcrlw9cJViKbz/uWbFbn/IC+NBnvKOzgIEI73KCEYR3XkrjksGJhosHCU9vjvbK7wv2t4JD2qNfc6D9Uow4y1BrViqdFagp+4JgnmVr67aDUe1cGWaQ8AMhq13ayiQ3u7HgGkbxoEYcej5YmLHWk3VCOU2BO9LoWtnG3e2e94UuN41Lf9OaxryVRNMDq7015Ub9xwMrFevRu92GxaU3PpkQLgXqkvdxUod3TMZdsyX+jKfQXDQwXF/WJfVtp7Zlphim3q57fVXKt3+1Ys9WxxRS5emJfXXntffvXrNyzv6hMV3CDwgIJkP7qY0PEw1GLgksUsIqOXY1QSujCvmKbAtCJlBU5DARbuYNMgStC9CcQD0yJwGtzDaBY4CRrDeIhyDWo8AqdAg2BS0QiO4zR1CGQcYk9Qkg08IeN3nvgWbqTeo2n4fZYmf5F90gdy615HlpYK0u7QRcYbTZO63hirGdunruPLA80xUxGYAgfjf2rR098zjlm5rLUC9a4jbmqtGmAq+ki1YNAisZvXH0u9Zav/oOtJZ1CSbr+qAt2zjoQIeLddUw1Rty2dSzsFKWeLqh0qtjFOr9WSaoH8LAVQHxdwU5rKU7p6HHB5S5++7XILoQ8eFQZ7g+SGBKtiAr6uZsAdBchN1RTXI2CcVw1ybqNqx27m2/q8Jk/b+5aGwmdwEzcme7Ib1ayzN0mlpObY3Ufy6cdn5Y03T6iwP7G4BOAIm+gwfDfapuVIsZpbvQfCF0W5EVzAhHmG1wqQkDpPyS4uX+ImeMPe+QATC61zV/6iAMHz9crrp6Lv82YNcAeax6EJrCPKQuzNCttBEwzkPX4LWgauQhYvcRJvg+qtTQEK6ScQeYKJVBku3K3J2uaOtPrkWjWt0QIJnQdFT98AHP+ncY8wjqElvCkcjao3Y66hxBwOEqLsySj6gSu4qwDpbVmXCxITR2PfUxCOMei1pdUoS62Ul1I2J1vLa6oldtScKtmoFytSK5ak322bhhgNBqZlytmCbSxpUXYl8mEbtqTLF9uY2oOkh4rniyr8EPNH9Yk8bkzknppTd8pDedSYyhMCgvp8BY0Tnc81WmP2sIjjLLik263m/9/eeTbHmSVXmr9+IxS7EfthtSuFzErj1GZ6ukl2s+lAECQIwntTKO+99wDZ3bn5ZL63qlAE2ZoJKUJLzIcbKPOWAXDPzTxpTko6mZbNN/vy/PmB3H+wK9+atq6PErBE3Q4jlen6c7CE8nXqpgBJGP2M+2Rk3bLxX6hL9UT5zHcWDftfyncobuQarNRv/rBmbhcWBDFqykgsW77qQztfRPNAsBZ8h8VmKG+pfWfgpd/EyPxaxF/oZ49yKYHwU3byatOF7kxFfrcgmVxOOvq/K42mppW76FZ9ChyfI/cI6x4uFaQcgg5A4Bfz8G7Ie7hbFUAyI+3tYym3L/SPWpLxBOEFRNmUoHfq0mlXTZAhG09I8jwmibNTJdglsyatmhL2alWqZQVKVR9TMKGb29DHsvGUFHN55TIu5ECGHaCEDDuzChu6qT+dJPTarLAWQZSIflLuXhhMpTag7yEUS0bhTfIy1JEpZ8qk8rL19lSerzDMk2hRZyZA/XjVQ6qc8GHGByFXQGJtsS99MA7uGZv/X3+3YiSefg8KFAEOhP83ym9wsSDngIPHcJOwHtRdmdo7P1dcDPuR3scyBGmgsHCpUE/kvb7+9sCAYk1Ur2qyzrwQQsPKRQgHEyI2sq/vQ3advMjbrYSkKzVzrQ66v8wJ+afA8RlbD9Y98hmW+GNuh/KOfNethnUOLoR9F0Hiod8jA0hRCXpzkLVuvpG6RN12zRKEiD7XSxWzCBW1IoVcwgoXxyNXVOwpD4ldnMrbt+uyt7cjR0cHcnJ6JNsbm/J67ZWkkgkn+8pVplFTFaf8QF23Qn/yyTzIr66Bulf9a/W3p5aVD6HmWXhzOk9cMjO92WhIKlWQvf2MPH8RkycrDOmsWpbb5UG9Fir0X/imzlnuwitwPVdBhyHRKiJVcA1KTihLIRDw+6/eWC8JIIHsk+yD53hnoc8LCeIOPAZIQ61VIOJYNRNreIZiCo1Vx4L2FmAFPISBeT3fifez76iAM1dxFQnTM9mJV+So89NsQOZt6urL4PgcMua3rR/LChCItvGJgauym3IibbTKK1AmmVkLW54wJHJlACEPoiCpD9LSHTDXvCWNRkGK+YSNca6XquYukROh7KRRK9jsc1NNb9XlYH9Xnj59bLPoHjy4rz8fyfcPH8qD7x7IyfGRWRbIfOg6tOpgtSzpvhLtv6QGS0GVGLyX9PC9JRvDRCovd5nPAg9gWcwsEyyoqeW7OE/Lm42YrLxMybNVr5K1BqTIbSHc6u5V1SJGTtqPzO8PUSgAQAYdF8srhB9bBAuiTzQLEJEoDF2DkPEgOwoIrKw9cvOwJLhKrzZHRsaxYrhRYRqWDe8kC/+KqVaEhMmnJG6IQHgW/ly+X7uQzXzPRhCEGitUD5eBwUK/ikLEzxUcjxUcP5QUIESjPMQL16C+6lzq/YyVrCP4lo9Cu249dBHBaqsb1nHrQZKwOchIe1CUdq8k5Qoi0nFzowjVXtnUpoa6U1nrLGTDM0GKvvFk4lKSyZgpi6yursjr12uyu70le1s7UshmrRqY600WSDfxSDdppde3Zqg/t0gRYn7RfSeJ7lQokx9OF0srQrmL96cAlNtKLqgCGA76Ui7V5Pw8K28307L2pqQbE+1bZnqoK2Pk2fMOEGPcI6JaVOhaX4dyCjY/0av/8/ffWhEjrbsAhBAxrhW5DtQX2cgmVbrpvIdeD49IuQg2HYb89FmFHYtmAULf+EULHPA9SBQ+fJyKhOOyBloTsFMAPlrJyLePjg0cry4rNkGWTPmsZfaWcO5/Rf2q/+iF9XhYFFpuI25BB2EU7q300NzNmpuFyzUHyLEBJNwmikUGvd6j/1wtTlsBVTqXcjltyb1W3XWn+r2mWhTabmvGUYrqcp2fn9ioXzY/8zrKyke436hVpZDJSVMBNlKAcL2NgJ52patuXLFLfzkA+RAEn1qX/Z8k0ZtKpsdYhYmVzNtEKgPATYAsAiOAY1HLl6BCr9uRfK4kh4dp9d2L8uJVydwVaqSILKHPG0KvcBCy7BYWfpK0jYu1oHoXPkLRI/JBJBq5hjwGIGFTwzsAHoM3GcMGB7FBnfq+Nm9ka2DZc1woAMRn8vii8jsghbfgfgFas2Jfrcvvv16Xrx5tycPXx/I6XpPd5rXyDrcen8qUf265jtvWDwqQ+4UoURg4R2h8KvY8k25Zc1teYhJIetC+Kul1pe65VDtJaXRzUqpfSKFyYeLPJPzIfBtv6LesJosWW0K3WBBAggsVfP0QtSIHUs4XDSBDy4d0TVAOvaymWqmSWiMEGD5ZY7UMDsh6/73k1XLQQ1I2wYYrk+KfXC0DYW5ZFoGxuNyajC1Sl89mJJHIyvaWul2rcSO7NmdQN7VbkJzPNkdcwbSxsCAnBhLEpgkhAxYWILLcxzP61V3OFGsB2CDTlJZ4z3lJLQaCcWHmYETUI/VENHtRcce62MDRp6g3duRpRMwB6T/+7qH8yzdP5LtXu7KRrsuegsNqrEgEfsRyBM7xuVqNsB5XFgBivMMGa3plLuFeVr57ErlTlJTsWeYcgHC9y/rEjdTTINXoZ6XRySg4ztQSJNW9UqKeL1tzFK21WBDjEnobi2Hl732UEYcWLaInAdlPq8dSq0EImKSiJxyxIACkqZ+jZL9Xlnh/OstlzABgpP3joLGwrnKPzOCdcphr4zGFwZWNAWOi6zIgPgaOGwDptazXvtWsSS6TVt4Ul+2djKy+ysjj5xlzZ2wMm53qPkPEOIm6WFTsmp6VukIAJrTYGkieoOGbsbAyYAtz103IGgUTtSK4cstRLO4DnB+eMjLBXSgAAh+xYkUFCUJ1X9/fk3/64qH8sHkob1JlOWheyR68IwLHbZYjAOQuWA8A8n0xAoipsmM5SBiatu6lCUyHeqxQxcsi2hWqduv9tEn70LOM5A+Z9HxR3yOXkmqxbLVTQwUBkSizHuQzcJUg6I2GtCoNKzOhdIQkYZMkod7GNavkyvYcyUYANZ5ZkIJaroJu7pEnCVn9n/U+m/5K74cch/el83zCiPnPs7bckP/ID6/Ngtw2Ojq4WcugCYvnCBwQqSPXA1Da6j4SFi7r73FxnpeNt0l58vxCHj1N2YkOiSfqhZpJkB/lPiCAn6DbixWhspf7QXQacMBpcKWMc9hgTm+UWgZI0N8FfACRTD6As3KVKGBAtOyffv+9/PHZa9kttuWkfS377Z9kS12r25QPF9d/dZG3/6gF/3gQAIIwNc1SYS6ID9ikDReARCXvWBIAolYFCVGG6lDq3hwgGFczJcS6WpB87lIKqYyFd4chj6EuUrfbcLJtGfauVPMlKaYKUi1UbNWV9Jb0fjnDYyXLrvc6Ts4RoGYyKuqK7VFB6gqSQn9gESlEFy67V2rxJmrJxiY/Q496SgFjiURyHUO3FESvLDSsrlZtdC3DK+cg1puyZDkCQMJaBgjuIDVnWI9OW3//PnVlTTsA+P26nY4U9Pc6PEzK6/WkrL4m0Vc3jkJZOhudATqW20AhUX+6y3VmRN1EGdQV4zoErekkNCsURa+wRETKGKu2CBCb104PyJoPBgUQvB9Bgi+/3ZE/fP1G/u1Pr+X+yx3ZytStzup04BW6FrH6BDiCXM/yZvrcVohePShEAGEeiNVeobtLqNfqsajDiitAzsyCQNQBhzVGDRIGkLq+pjNCK7ckvVFVXay8lIsZycXV+qRz0qhU9YRtSLfd1M3u7pLlQHChovqrfoeMe8fKSyhUpEix122bC8Z1kHNLDtrQlpappSAIV+wPbaND1uEVnTGq42Npjb1XpDWZSnU0kXTXs+69yVgqo6kU1WrAQShVWbYOy5aC+6EP5QOATCHpDWmo9RgNcRdbBpRuuy51BQ0gISzcVCuaSZfk6Cgn62/z8vxlTt2cthFqV3jPm/tDsaG3xBIGPrHFBrdsN73oakVwx8Ls9GBNwqx1wMF1BpyNXtSDXjQX6/6jM/n28b48eHEoP67H5MVBWg7KPYnpYRFTcFCIuIVr1b491xHA8V9lHMF/5gIcj6LoFeAwgLDZyx0annzEgQ3MifStyINYaUkPIk/XoNddNYd5aelqDwvSGZalP1IQ9NVValQlc3kp8aMLBUpGKmopqsonmjXyIepStXChnMD32sgCef4BvlFK5+35kJPAhfESE59qhIzQUHnIaNrT7ziyWiE2PQCgqcevGymQxjYwh5+FHv0mUxeZu0Jozh9fdKX+XIDwON8LgAAKmru4Xa/kzaJUimk7DGwClvGvllRKZbmMZWR3LytvtmryZtuLDGlcsiJCS9SVLaxr7paSd+q+rK9DgeRj3XwYqGn1Kv/AongL7jvLdfCcXRtZlVdK6FGJf76RlfXzsuzl23JYGctJy/v44XBnA2+dDWJvy8BgzaY83bKhPqcF71gGhwGEiBU5DTLqkHUsCSFeAMKgHItw8XgfkWqEiqs2haoWSYsi90lkikVhYip2JrFDdddSOcuFAJJSRjmLbhJcr4q6UM1qzQoDbVNT+6TXlXOlBdB4Z6Fr8rLRGBbpOr3MHmyNKDfx3nTCtbxPiIb57Ylam4nkemjL+jWLoFgExzIwFteyixXu851xqdj8WEUSoPlMTOpVF8gDON4Zqd+buYnqjlFiU6s1JZEoy/ZuTlZeqlv1w5nVXAEEchVEm9C7CpI/hGkBAsWIYWDOc/o+KFiM8h+4VVb2rrcpGeG+50Xa8qcfjuVtvCnnyjMo5sSduoi6Lc91HSxI9twWtQoAeX7LhvrcViDmuFaA5PuS37+3KA4H78CFYlIt1oP6LIh5GGfQGhdt8hQg4jk4yGjM8MyO9AcNkxK9PN+Xi+NDKWeL5jo1azXJKy/JpdNWa0X+AH5yFZ3kVvOkpN0rffX5dtdK3q3wUbnHeKK8hTqvqc8CMRWUKdKY841vm3YhE05kqjhgGKi6XlMXelgERiDgASAfA0nQ4wrXOfgovR9YtA03EOtBYvTyYk+qlZy5XWWzIl5wCVDCHBPu93odSaSUm7zZlvsP1+TLP76W7x8njKOEMWpYBiyFjVhTLvLsJQlISkWujIS7K0Wew8tQeMyEGQBQpOELp/niT29lJ9tWV0rBoa7UoS5AElNwnAzmczs+FtYN7tXnbj1YBpAIFI9Kbk2s1MSz6EyVgpjDP0gSMuaAGq0oMUhTlIKE8QeMVcPqlJWso+TeR719UFFrkpNqPSmXlwBkXy2C8xDcpsTlhbxZfzVLDmYyKcnnc1IqFSSZvJTzs1PZfrsle5u7cnl6ISeHR3IZP5NM4VJq7ZxxHNwrAINVCRt8edMHl4jcRk0tTGeM2zUHyHzj325NwnMfAiV8Bu/vZfjkdKgTa7Uqkk4dycHhmgEE62HcRC0Hr3GL6D32fA86KsvVtOztvpLHP96Xb799qJZkW12tjIVwZ+PY9n2oJzkUknyAgOdehBqqlyXrOARQWBjAA9lnbjoZc0rof/vHNdlKN+Wk94uBA3fquOcgobd8Voz4iVqrz7VK97YFIMKCqFupCeCwiVDKO6yql1qsIWOevcw914siWCQJFSSQdXrRa/20iT3girUGean1kjZ7MJM9l9iZXp+KW0SqVa/LiVqUP379pTx58siKE588eSzPnj2V16/W5MXKc13P5OGD+3L/2+/k+ZOn8uj7H2Rl5YmesiuSKV6YzhbzKVCPR8xs2SL48tPdNvE1yu8uOhDcouWNv/z6jwHEgRF9Hu+r1gCrQei611ei3srJZXJLAfJSGo2Sh6VHHp4OvfdUEBhfwZro47VaTk6O3sjq6p/kydM/yo+PX9gsdnR3Gbfm/eUM3pma24WVIItOPRUKitw3oepnGavTgnNs6LXffHcYRcEObWT17//0UvaKPWt6Ahws3CrUEIMySShGvA0cVqV7y0b63FcoM7mPizUfsXbp5SO4WcP4DCA8RjadaFamtSfZlrpPvUsbhYbED9OjGgNd/ZSFesuVtMQvDuT8eE/5SFyy6YwS1HN58+aVgWNzc0NevHgua2svbdLT6cmx1WJt6eNrL1flxXN9bnVVdnc25ehoVyoNhvCgMu7CyfAQ5oIsbmzfxEEyaK6EEq65zeIsPvcxEC2DhPcmakVNGTVn9WZWaq2UpPNHkkkfOycxlwpVSdqK4SkN0wbLKUfhPpYFwGSzZ3J0siY7+yvycvWlPPh+xwDC5iePEZQQiWi5QNzI3awddK4oKSnJkxUkRqm1oiaLeitPQpLr+Nu//0q+frIuB/WxgSIAZHF9CiABHHfBvVpeRLMCWb9XAwxYiggEblHmAAk96OnWvqQbu5JrHysoshbNgpdA7uuDlLSHeesLaXerkogfy/bWa9nfO1IQ6GvTST1dK1JT96pYzEoul5JyuWAzAvv9jp6u8Jey5FJpdbFixlfq6qY0W2XpMufDLFUx6pdu2xQpIlNYDd/AvnkDOMLt/0iAWKuvbnqsR6tZkkJZrW4jI61uUeqNnMkcUaXsA0k9H0KuBFCUiimrcKZoMwQ0mJtSqacllT5XgLyR7x5se+Wu8g8sA4lDyt+ZXkV/BxbEQ7o+4fZpBCDvIDyxDDmavFic332xJv/3y0fy4jgph613HwUI6iQfAwiVussb5y4teMgskw5JT7d083eYVcjgzgCQYysxyVi5CT/3bVIt4V6sDqXylKKQPISPsIGH47b+00/k9dtV2T44l6OzuJ62ZXM72GAuA9S1MK4VIVqxYstCwbUSYg0eHeqNa7aoKgYgLBuWMyFQUDaQLPORsNEDWV8GQyDd4fZ83bxuBowIfHx3m2/Sqhr5NivQq8tgSM6mZaBxMj4wkNBf4ppf8BVKa1ygIrhduFmAZDTqSLGQl5VnG3L/+wNzrQjpesj30vpEUIMHKISEsSKbTMPVa4h0AQ5qrlAoMblSm3F4JL/9alWeHinPwXp0f/4AGKwwy+O2BKGVlNxxgMyqea1iVwHitVZEszyTTnUv7hXgyEY9I+6CRZKjal1c3eTAiD18hCmoRJySmSP1jV/I7llSEsWatHvdGUD4ab75OJyyLRusQ386ZSZjtLEmZM3VpYKcT1vmWjF/sDPx8cM2J13vMwFpGSCBqH8IEAdDeHxuNZbvR9e/94w5G55+lnarZuFaarCc7xChImEIoJvRe88/27+LgwRiPhPC0+f5HTkorFylUZf93SN5tnJqwtI2sDMqKiSjToWvzS1knJtaDfpNiFThjmFp6FrEkiA1xFQrWnq/+nFD3paGH7UcrBDevQ0gf7UgC/0gi4oloeec0O5yJyHLQsGUxc+uo3gREu0nuun8DppymTrUf/SGHCULkq51pNV3HSwiP7OTdkj3Yd2Si7UiORIarhRg07YP5cQiqfUAIEyx7SkAfaCLAmTik1WxWGHGyOIm/2Czz573DfwpwCzeJ99hWXEFCfkXB4e/F4lAfierxVLg8NgyZ3G1SFeKdJfP35u8DmADfIClkMvK/sGlrG+WZX2bqVFVI+E+8JP5IHErPaEj0crlmXe44vPUv3l4bEBieI+JZP/DN/JoJybbjesPQDGzHoR3owiW5UCWwGHRqzsOENZCmHeuwxsAYQ1RiMdFPCR0EfIYpSc8jvWpD9M2QwLibKXsrYLEUieyc3YqsXxL0vWeNHre1+HTbKM8gt6vV4tSSKdcqKHT0k3YNTfKphnZaOGizz40gJQdIIBj4iPBuupqMdTF+civgYT75CL4+e8DSDjxrV4r2vgzgOjjuF2VUsZcp2XeYmA0KVUUWsI897llgasEa4p1KhULcn6ek83tkjx/6VwCN8plf6qW+COsiyaWiUM8SVg4lw5EIlb/+C+PfET1v34na4ma7HVud62C9ZiNZr6Fg/wVIL6wIi4ct7BC7oNeD1QXcbdmZe/NQym0z0wLi5nojE2g5GTC1CE2TLcupUpKUoWkHCTScpqty0k8r/cRZyhbWXhV+Ui5mDexhkIWUn4m6URcSiXyKDkpVZNS66ZsECiLAkXGP9swyUleV7AiOelMiyZy5tNvb1oL3+SLxP1DAPwaqEJvyM1I1sQSlLhHWI9yOWuWYpHLhMAB3ZRYD7cinigMMqsWDqZT0lyuXqREWZdspix7+zl5uoKebt3yH1ZiskXi0HV2SQLCNRjp9sXXW9ZwxViF//Y3/1u+eLQum+WRla8vAwPesQiOmQW5BSB3nYOwzIK4oomXups1sZEG8IwzqY9SVnZCj7pZk/aJlNsKDCt5z1jZe1d5gmWJ9Z/eaJAEjElBN/9JrizbF3l5/mJD1t9syfHRscTOzmVrY1M2Xq9L7PxcErGY7LzdVh98Vw4PdmVnZ1NdjU3JlS/mQDCAtAwgjB2+ARDlJLhZ0wU361MAWQSG/7wJkjkIPoyAzcHhz+MiUZzZqBdtw9OOG64NgMINc5AEgW4voZktA4hzk8EQQT34TEfK6m4eKcl+87YoT1fzVpdFsSLNU3QDAhBKUnCtUHxkUM9//x//IH/zP/9OfjxIym77/QfgWLYcnwLIXznIvDbrHiDATcJSVEcJX8O4l5YoOHBvupOKNPQaFv3nrRErF021bXrNlG6AajknyfipVJoNuai2ZDOWlycr6/Ly1ZbsHp7K6fGJbL99K2/X38iJAubyLCZH+4cKnkMDyNb2up6eGwqQc938ObcgDONRXjK4ajpRnxZ8TvfEZ3Xz/a5usSCLlmC+glsVgDMH0OLr4Ahs5mWAhGvY1BB3SkrgUXAJE7iLgDUDiAUM3K10Uh+AAffwBYB4b6wJWXkEv7EmrWZTksmSvH5zLj8+YyR0xeqz4CVwESsl+ca1fLEgf/t3X8oXT9blTbFvogvL4IB3ULW7DI5A0pdHNd+FxqhPLQMIJJ0TmMV4X2t+irLjDMHBtSFSRKiV+zwXxgHbIHkFSH9cd7FjA4i6U4lzqbY7ctnoy0GhKVvHSdk/z8h5sSaZQl7dqoyk4glJXSRN/6perUhVLU62EJd04UyyxXOpdJI+m3vkSULGPTMvjxwIES24iblb+h1s6up1P9r8803OdwrcJGzYTwFkRrAByBhFeS8VWbYgvD5k08P8dyJxVsFr5SQ3XTLjXVgYsyZO2nHPCBd7E5kDEQC1mmXJJi9sbAR978wPLBbLcnickzdK4Nc2aeWtyg9PPE+Cxhai2Uy6+uc/PJaX8apaj58+BEdvXlayvG7jIKw7D5ByVKxo/zi1AGwyxvuyCTmVmWwKOGhU8nyEbgbcHJtHHvEDG7dWsLAsuYFapSCFfEpq7ZZylr5cNIZyUujISbKihL0phVJdaoWSiVW3ag0fc6CnaH/UMlWURj9jlcI2hMfCuQqAiY8dHl8zZVWJ7XVHrUnd+AcgAbTDK8rkF3Strof6WOsWyxI2+6LrdRMgrND6Gzb7fMNPLWRroelW1UBkNVmEr9UqLFqQ8Bp3q7AiHkEzHhI1kuFSEcWy/4GCq9OpSfLyWP+OeWHkA6ouw2FPLUtbEvGSbO+U5NUGo5z7prOFfBCK8P/6hxX5+tmOhXZv4x6h13wZHKyP9YHcpRqsjy2zIKFmyUjlNQrfQ48kTT0xh+9PuyvWhIJBrAnuVRM3K8pJtIe6WdtlaeoJ2MZNUPej2u9LsjeVWOtKTlM1OY0VJJ+vWb859VlsADYH1bpYIbiGAS8ChlkoA1/Dq3oVHKNrrEhTAUJeRF2RKwWt3h5eNSyaxXWACcCMpu76fRwgDqaQt1gECPexIsub3Qm1Ww+EKdj4hKvhI5z4wcKE1/lr3GqEzwufyWMm4m2zGZ2nABjK5imf76jrVtLDBoVKF7PoSi5TlH0l8C9f500UzvgH4xL++FKenxVNsoOLe2sAABZMSURBVGcZHHQLfgwcLFQTlwHyVxdrvu6Nruiw86pX/mkAASvBKd6mQFDvk4/ojStKyCvmjuGKGQfQE5yNyuPtbtmE4yzU265JDjerey3x1rXE1IrEim11nYjWROrtI0Su1SJMe5b3cF6Tj9TFcftqdhv+MZ4ix+9cyFxAJee4WQAD4JCDwQUL4WAbInp1Gze5aUECN1gEgm1sNvLC4/4ab8iymSY2zIcQLeFaALKoH+wrfGaIXC0DhM/mvbyqgAw79wfGQShsxEJRv0WZSruDaj4uWU9q1bocHSbk8RNmkqwaOB6+OZW35dEH4Fic5/GxdZsFoQfk2V8BYuve9bsr3YATJdsj69rrKhCYOGUulG5EiDGnOQSdrkMb0KkcBQCxWXHJCLX21AqYPq+6ILVOVS7rNYkxBaoylMtSV5IddHA5cX1wjle99u16NjafgQg273f1Tl2SdwPLzJMbASC4d15yAgAKBk4e4xqsHiABWFwTXLPl8K+f8A4Qb8aaP38DIAuvCRYlJP3cGkSuUrSp3dXyvMbVQlJwDgYHzOJ9u817AriJczh6ZJBvtdEQCpBaLS+lUkLyysuaraInFsd0MHbk4jIjq7sX8nQnJpuFrux3fI4Hiwz6p3hHWCZIfUsn4eestfvnrnuUj09IXE0Rhh6aq8KGbekGhIzjShHmJapFjzpzQ+gmJAfS4RSfOnm2037SslKTYqMgx8WCxNrXNuLsvNB2JfWhbgzCmjN/3MkrrhHWAKuBQFzYYLaJI7cPtwlCjqUYItGvQLEgwjXXcx3iDgPjKD11DUf6vUheznWu5mHYRQtyGziWQQJn8DoqD9XO+YSDzEW2OxZ9cqHtm581TxLOeUh4PXkSK72JyDwHBocIAYBWqySl6qWks4cmp2TzHu17DKXe7cm5crxjdWEPoqTgce8XOWMaVASQj7lWqJfQJPUp5cT/n0c3/6ULYr64eOweYGCTDydq7ie+MSHnnNRYEWafAxAb09Y7l3KXMQkIN3ikic0Y3J/eWE/5vroGlYwcZfNyoQC5KHZtJQc/S2WIDtU0apP1jT+GX6gVYGNPKVe5modLw0YjIgWAAEfgGlgt8h+hqnd2QgM4rtHX3NzsNzctZfPwHx6fgUPBFEZUB3B47VQUkjWr4QBxazAHDG4XhH3xeV6/eBAEsNwECddHALH3RyeMNl0U7yuSL51ItnAihfyl8bug9FLpjyTWeyfHCohQc3XWVYvdu5bD7s+y+xGAhDEGlJcsu1aLALkLCibLyxqlokUOhMfudXGjcF3URepPfFNxEnM646oE4syyCBOCDfYYYdiMEnT61+EE1E8VpN5JSSofk+NM3nqhGXPGHMFY/2dJDt9Ldazu3JRomXMGXCECAUTJQik7mxceEDY1QDJXDms1BST9Gz0ht536sw0ebVSWASqyNn4oNKP3mZg7NtX3Nd6C1YksD683bqYuVJjMGwDgm9mBQz7DAeOgmVsavz/vVZmDw4Bq184z7YHUW5VzvyaFyrlUainlIkmzKuaSqbXP9cc2WDM0P9EUlehdSaY3kuPueyXnLgS3DBDWbVZjcd01DmJdhBUHBW23VPFSqEgu5B6RqsEEbSs9sdQ98irWkZ3oXeMfBXOl8O+JNlmOBOAoYHC/GoOU8RPLcGNxeglJ5k/lMJmUs9ZU4s0rtyI1xN5+lpy6WY1hdRal4r1Zfj90DuJqoQwShksCWKp63VoBmGA1lgFime5bwMP7UDPG78UBQPDBOIyCFTBcvetb+BhLNVX+Aw8KQDGADumjx2L5JjYXEMsR5TFmIIzAYeHdiF8Yx7hyEr/MTey6KIoVLIqDSznhuGPz5jvK6RCDoNHKcjR6LeqQJwoQrAfrRC3JufK8vALntPfTTOtqeQVR6o9Zj2BB7goHCb3ouFQAhdxHEG2wTDqnMW6NkWX+mZGvHHIJFAQyu86fbxo5t4y6RZ0igDCGLcpu83i5nZBLdbPOWyO57P6kHKQrZ8pF0LIqDId6TcVCxQQBWDRg+XumHWy4bmpRcL/sBDfhOGboVQ2ohHJxAy0/Qok9lieKZgEsXLJFAMFD+J0IGQdLNVKgNNXilfR7FgtqBdU1rDTT6tvrd2kXpFDMSL1ByLqu/n9Our2GblTK3pH7aUoxn7PblIYwkYqBP9zH/QkAIGPuQQkvSvTv5K5ZAIWDybnM3AKF2wOrbgYoWDCPnA3V2o+V0703rhEiVkyEuuy4UMVp72fLfSyDg2W84xZQLFqPuxTiDd2D5DysxD2yHibaoM/fczfC4/Jj/ccM0JXCFeAf+c5dG4izaezqyY6VmAEE1ysCiblbFvrNmStWaGclVm/qqXYtserAQr0J/QcWdcOgjoJlgrd0RmUbwIPeb0N5jb83bpuS8Ilnp62miWCCgcABYeFlIlZWn8VyawSIrs3CLFoQfkd+N+9OJDKHJWkNipJIICixJvnKpezsrcvx2bbEkyfy/OlT2dvblnQmLttbb9XNycn52ZEc7e9LNp2SlSfPrUyGhqeLszNJJ1NyuHdgqiUBnLhdQZ3eq4j98AlWhb8pTVNe7RtKUgJA9LX6dzf3c8wB5SX3hONRp0dyNQAEC4JKIiJ6SXWzDtXdoltwGRwfy5ovrruWIDSAFNxyYE0WCTrrHu4HpxLhxf6YaJILtE1xMQBJFEnitKbsw05+sxaezHNuknKQBK6CNGk3JYlKVo7KTYk1J3JBLqTS1X9iV4k/wnM5y610hhXvb1eQ0LrL8povLzNxsTh4yfwEtu8yJeSLe+Z5Eb4PP+E27yx6tUC0Z1aRgACVArhqRMKqUquXFABvpFRPyduN1/L61Qu5VICsrqzIzvampNNx2dnclEIhrc+vy+bGW8llM7L24qXsbm4pedbfcf9ALs8vZOvtluSzVPfOy0e83N1dxZlloQyechM9LAhqAABcSHMrzcUimuWNY/wNuqOSdWrajBQFSG5wZRYjkHN+nqqLxei0Y7XYy/0ei+tTALlrKiYsQIEFYeFiLT9/jxPZBnDi747gIX66e5Us/i7k2MtP6M1ojSD1VfPVcb8AiW/shIIDq5LxTd5XK1JPy3mppK7WRM5yLQv3pgcTKffUavTS0h2W9bM9S99T64QeF2BD1pT3w5IQzoUrkDAMzVGQbeMQhH31cVxBbhP+Daoni2FbO5Wve+Y2wiGIclkjFu28/ZZksylp63fK5zMSj59JrZmXMmUzuayUS0WzGBXqzFIxyecy7mIVClItl2yUQyp1YW5YuaiPVUqzrLrnTtwyzLmHq0aSgUeNsqOfi0IltXDG9fQ7EYjgYOAAwSUEJPyP4FDN8dBC5ueDX5R3zBVKAlhYt+U/ZtzjVwByV7jH4sKVMs4REfPF5+7NCg85TYcNaRg38Bonz5irpdDH6PvoUGqip/mQUw4SCUfR63Cp2NBsbniEAWSQkVq3IKlWXS6UrMdKPbko9U1EusyIaAQeRkXjGt5r7mBzgCWtpJ77VuJCNl83DYClHgqr5glKTlXf9BD5WUQqilwFgMBlcKssP0I4meJKLOM7f22IlGGlcCexUF7W7sWGEGOE7DhEfLNH7tu1E3jGz1UaavXaRXObzD298vmGIeIVuAe8wjLo1KANFSADtcpDD3j4AZM1S0jI3KoX0D62nyRIq2o9EO52FXsThOvNI1kQ8zCyeRkgARyfAggl7ndRxYRlkSzcq6XH74V/CrygMaorSIp2mnmUysvNW7hCWBmSiVeEaZWwXw30dOvo8xWpK4Aq/bRUenrS9lP2s9bPSVHdh0RP+YfykLiCI14d2j+2OGKATcPctRt8ZsZp1IIo8SfKhaWykKyFd9nY7u4BKiyHgcY2+ZxzLAOEnIlHy+ApVAfMyb5l6wkGLES+wustJDt1oTg2NBucz1m0TlzbbFXlLLava1fyBf3da2V1ybImkIdQHgourHq9Iu12XXmKy7XCPyjTYYxEOFza+v+g76U39qpqynCwJnCyqrqjKbXAPjyI0Q/vo1yIJwpvA0ZYJAbJmt/Wf85i5uBdtB6LaxkcrAWAKA8Y16RBGYlu+qa5U3rqTqiDIuxL+JQNRLi0q/9EvXaEwHVe/3FZqQxYGSl3k1Jqp6XYqUi6N/IRBS31mfNtuagMJKmnX1kB0tX37agFsdMTba0IKACD4TwmJWTWzSuGccHY0Jz+FCw6SXdX8MOixJvLX+OZeo+cRe4M9ylLUcB4jmReSxUiX6E9mFM/kO+bABmbQiS6X2uvX8ibjTXT/2Lm4vPnT23u4vr6K9lUor+7uy2Hh/tSLGZmlcDNTl4qzbhUO/Eogud5JW87Lio4GjOAFPsN/ftdz2agFJWLwEdOI4B8rN9jGSi3hXitQPEznjn4l64bAGkrWfQIE7VRyjHGZLiJaN3ccJZpn2JZCOtiabzLLxB2CHqhXZJkb2wAidXGcg5AagNJd3rSQtGDqVGjpulpBYDUFBzlzoXUFCCcpm5ZoqCAhX49D4KiCS4TGxsL4PmFD4GxuFzh3Wu6AAY5D15LrsdB5i7QBwCZemk6UadFgBjwppSoN03r6+LiVM7OTuTs/FhOTw9NDO/w8EBvH0ssdq48JS6nJ0dycnIo1SqzGdUKKgfJF2JSKMVsABF/A3OxOBDGXkU9oVDT+nFKCggqEqL58AqQ+vhKaqOxxPrvLHL1MfdqGSDL4JgB5A6ouP+5awEgulHH3tZKZAhOgAtzY6ORRHxHFrppAPHCwHmm3d0yJ+nlblpSFC121SWgYLHQlXhLAdJQItvMSJ/KX0QaSD4qHyGqVcc968Zm7pXxEyqJJyQsAeG8xB7yDgdik5s+1i2gWF64Y1YBTJnKu4HdByh8Rkjk+Qp1U1GtGGXtloNwkASAMHw0kYipK5U0CwOI5onCkOuISlEmrrZo0kdEthQgZMbTyVN1w5gqHAnkqYUD+B65I/Te8d/frHVP0jYISGxqFqU7qNinehM56f0k+5+IXoUFWf+YBbnrLtZtSwHip1ZTAdIYQZSJqHgSjwLBxZILD/sOrS/DigcnuChuPW7wiIhoFzoZSbRb5lpd5NoSb/Qkr6Ap1RNSa6alN/LwZm9UsyAA8qUs3C5OTTYIm9Q3Cd+N7+luCNE271cpWdTnw9L2DxekfEyxo9V10cZLZQBDgMoWVnVLNM9XOED8voOka49hXQDJYKC/Tz5rLtZo5EWEZNsh+2Z5rOEpUlrU17Y7RSXyCu4hbbokFqtSr+Wtetd6XqhJu+K2h7V93knLOjdtLota3JS6WJeMMFAekh68kxIq9r2hjbg+6LoVWQaFrdYvs9uv6r98CJA7lD3/c9a9+aaGmNNvUfFTepKzXAMZaovK4G5cexm6l6N7hW1nisWZV/4GgEC0y+pqpdoVOav35UwBcl5sS6o7lGyrKNmGPt/T103oUHQ3C8tBzzvuRSDfANJC0eoWcbryGWxqwp8WmTIrU/X6rcgF+tgyt+kdEbBmlMdxfmMBgKhMPYAj1E6F3Etwt0KOw98vlMKHkhFvp4W3YG282zDqmlRiXqkmJVc+kXonbar4kwkqjETS5t97EZxYNevyjELS7XFTsv2JEvOfjKhT33Zc68lRKid72aq8LXZlszaVjfo7eV2eyHp1Kq+KQ3ldmcqTi5Ksl0b6+FB+vKzL00xfXhSnslIcy9PcQJ7lR/K8/LO6WL98sEnu8loAiG5wQolU8UYAYeNjJQwYWA7+UXrqjq7btoG9JbduGxX3ILTKsqx/pJdSMOQl1uwaD4mpmxVrjCXeHUmi05F0vyclPU0bs/BuysYojMYIsREUmETl940FZUXnIlMrN4G0+8n777Eg7hpNvCSe/IJ+Z6vHmrhlWLQetwNkZFGtm+/nmzq4USYrag1V3gjF9VbsqK5VpZyWTP5Yqu2ktQbwOrdG4TuGz54DxL4HuZMpv2df/0djBQkzF3+y2e/bmao83tiV71Y35JvVt/LDzqm8ynbk/s6FPNw5k/tbp7Kabsnvf1yVH/dicv/tkfzm0Uv5/cqmPNiLy5ev9+XfXu3JVxun8kO8JU9KP32wSe7agocFVfsZQCDaTUQYKFA0aR3Pj3hXH8krBBNcm8oKChUoAASXgNeYoIMR9rmrhVpKoZ2SRKvpzVNltSTZplw0vFTiUv/Jif5IQVIV40CUmOh3oHGLzWgbRS3VPANec5dIXUELzUbuzzIQfm0BPDjI5J2rQc4tw+LpfTOqFT4ruF3z9/PHPMfhQnGIcbeUX5i86Ihwble6/bqSc+Vmtbh0h6jULwE6eu/5Z1PBEC3crSjfA9diKFB1SDvzWLYUIM8OLuSbFxvym+8eyVfPXsvrfEe+WtmQL5++ki+fvzHAfPFcAbS2rUB5Kf/y/Yr8058e2WP//N0T+e3TN/Jvqzvy4KQgT0vvP9gwd2kBDoIVoWDTAMKmdoBULSMdeMWidfEcAhEur7cykJhmLlYnuFn+XkG7qs7cw3ZM3ayixJSsX6j1OMk0Iz4ysUJGTkGSX1gvKy2hCWpKzsFJczhdbXMqWKzl1+SGvFfdT/mFzf8RwNz2+DzTjuwOXX1zN8otSjjNPwaQm66XV+eOpM0QnVrRGqh6XbWwg7o0ezkbldDq5u33W3SrDFwRwfdJWrh7Do6Qq+H2osXqKf85z5VkM1mSZ8cpWUvX5EWsIBv6t91tq4uVbclaSl2pWFnWKxP58TRvt59cVuXRRVkenuTlh9Oi/HhRlZWculv5oayqy/Wihpv14ca5K4tQNwELW/UAkKhAkLxHVzdeiMNjLeYgmddeheXaVMtgiiyShXsvpdyJSamXlWSvob7zlYLivVxWR3Khp9x5eSCXHUY2X0t52FdwogwSiPH85J5v6olZF6xMs581928+UOdDANy+ousi4AFA29g3qmsdIAEUN7+Pr+COBcvhFs/1fE3sWi0Iyov1qlrGdl7dqrg0u1kZjlvG5/yzXSCbxCGSP4xEQEHGauEUJFRZU/pv2l/6e94ASLctl4lLOUhk5KQ5siYp08PqLvSjt3+Zk3P9uaH31xoQdF0Q9bAWyPpdGbl226JJjN9/8e9xz60HC5Dg5rjulBUALgHCFxZiDpBlwPjtnGWHy+0LqXQujY8UFSTxdktB8t6sxnltZO5WDJAoaCjfbk08SmandlTyvQgQbpM/6A2qUu8yhrqk14QE3k2ALFsMJ+jeUmxtuu8XM+fzTsGwFt2q2wDilsXB4dbGr4Okh5EIgKRWzUqllpBqKyH9IeFkvzZYRq4vF9KSTZ9LtUGhZsYiiWiBkZAlekfWn4NjbvGc71RrJam1m1IajOW0/6Ee1u5SXuTXqnlDsnB549yFRYMYhZpYjdlhAUDstLfcRVLqNDyNIpHoYAluhG8jq7EAjHDfSP3URR4s/EoJSjelAIlZZKreg48UJdPpS7yj7lbnSmLVocTUJYjVlbj3ybBTM0WewkOjYZ6G++W+YbltjUQD/SzlLogkePfh7cAIy/I3utFwEymypHYrXP/raxkYfKd5eXq4ju9KhpxcR1AmaTZKUixeSq2ZMrcQ98m+k1mukSULU/ETSSWUvLe83N9q0ExqqRX1r2B15t/XxykQ4epaEWdL/07n/XcfAmQpL/JrALmrrbYseAe1aLNVcw7y/wCKQ9+zaGXhXAAAAABJRU5ErkJggg==' width='200' height='133' class=\"itemThumbnail\">\n",
       "                       </a>\n",
       "                    </div>\n",
       "\n",
       "                    <div class=\"item_right\"     style=\"float: none; width: auto; overflow: hidden;\">\n",
       "                        <a href='https://www.arcgis.com/home/item.html?id=3e133a24b5864e89ad49f2f75dec112c' target='_blank'><b>Kenya Pregnancies_WFL1</b>\n",
       "                        </a>\n",
       "                        <br/>Kenya Pregnancies during COVID-19<img src='https://www.arcgis.com/home/js/jsapi/esri/css/images/item_type_icons/featureshosted16.png' style=\"vertical-align:middle;\">Feature Layer Collection by krocke_uwi2017\n",
       "                        <br/>Last Modified: July 12, 2020\n",
       "                        <br/>0 comments, 136 views\n",
       "                    </div>\n",
       "                </div>\n",
       "                "
      ],
      "text/plain": [
       "<Item title:\"Kenya Pregnancies_WFL1\" type:Feature Layer Collection owner:krocke_uwi2017>"
      ]
     },
     "execution_count": 6,
     "metadata": {},
     "output_type": "execute_result"
    }
   ],
   "source": [
    "# Item Added From Toolbar\n",
    "# Title: Kenya Pregnancies_WFL1 | Type: Feature Service | Owner: krocke_uwi2017\n",
    "pregnancy_data = gis.content.get(\"3e133a24b5864e89ad49f2f75dec112c\")\n",
    "pregnancy_data"
   ]
  },
  {
   "cell_type": "code",
   "execution_count": 7,
   "metadata": {},
   "outputs": [
    {
     "data": {
      "text/html": [
       "<div>\n",
       "<style scoped>\n",
       "    .dataframe tbody tr th:only-of-type {\n",
       "        vertical-align: middle;\n",
       "    }\n",
       "\n",
       "    .dataframe tbody tr th {\n",
       "        vertical-align: top;\n",
       "    }\n",
       "\n",
       "    .dataframe thead th {\n",
       "        text-align: right;\n",
       "    }\n",
       "</style>\n",
       "<table border=\"1\" class=\"dataframe\">\n",
       "  <thead>\n",
       "    <tr style=\"text-align: right;\">\n",
       "      <th></th>\n",
       "      <th>OBJECTID</th>\n",
       "      <th>gid</th>\n",
       "      <th>pop2009</th>\n",
       "      <th>county</th>\n",
       "      <th>subcounty</th>\n",
       "      <th>ward</th>\n",
       "      <th>uid</th>\n",
       "      <th>scuid</th>\n",
       "      <th>cuid</th>\n",
       "      <th>organisationunitid</th>\n",
       "      <th>...</th>\n",
       "      <th>adol1519Jan_Mar_2017</th>\n",
       "      <th>adol1014Jan_Mar_2018</th>\n",
       "      <th>adol1519Jan_Mar_2018</th>\n",
       "      <th>adol1014Jan_Mar_2019</th>\n",
       "      <th>adol1519Jan_Mar_2019</th>\n",
       "      <th>adol1014Jan_Mar_2020</th>\n",
       "      <th>adol1519Jan_Mar_2020</th>\n",
       "      <th>Shape__Area</th>\n",
       "      <th>Shape__Length</th>\n",
       "      <th>SHAPE</th>\n",
       "    </tr>\n",
       "  </thead>\n",
       "  <tbody>\n",
       "    <tr>\n",
       "      <th>0</th>\n",
       "      <td>1</td>\n",
       "      <td>241</td>\n",
       "      <td>17431</td>\n",
       "      <td>ISIOLO</td>\n",
       "      <td>Isiolo Sub County</td>\n",
       "      <td>WABERA</td>\n",
       "      <td>rIdiIpv9fBt</td>\n",
       "      <td>I2LYLqKU6AW</td>\n",
       "      <td>bzOfj0iwfDH</td>\n",
       "      <td>rIdiIpv9fBt</td>\n",
       "      <td>...</td>\n",
       "      <td>256.0</td>\n",
       "      <td>9.0</td>\n",
       "      <td>274.0</td>\n",
       "      <td>1.0</td>\n",
       "      <td>292.0</td>\n",
       "      <td>1.0</td>\n",
       "      <td>110.0</td>\n",
       "      <td>1.306913e+07</td>\n",
       "      <td>19901.358598</td>\n",
       "      <td>{\"rings\": [[[4185577.21088152, 44560.871167269...</td>\n",
       "    </tr>\n",
       "    <tr>\n",
       "      <th>1</th>\n",
       "      <td>2</td>\n",
       "      <td>1455</td>\n",
       "      <td>18755</td>\n",
       "      <td>Migori</td>\n",
       "      <td>Rongo Sub County</td>\n",
       "      <td>North Kamagambo Ward</td>\n",
       "      <td>QC41mItjIzF</td>\n",
       "      <td>fT37q3rXQ35</td>\n",
       "      <td>fVra3Pwta0Q</td>\n",
       "      <td>QC41mItjIzF</td>\n",
       "      <td>...</td>\n",
       "      <td>59.0</td>\n",
       "      <td>5.0</td>\n",
       "      <td>84.0</td>\n",
       "      <td>5.0</td>\n",
       "      <td>51.0</td>\n",
       "      <td>4.0</td>\n",
       "      <td>63.0</td>\n",
       "      <td>4.651098e+07</td>\n",
       "      <td>28704.408993</td>\n",
       "      <td>{\"rings\": [[[3851584.90949789, -72419.10958822...</td>\n",
       "    </tr>\n",
       "    <tr>\n",
       "      <th>2</th>\n",
       "      <td>3</td>\n",
       "      <td>1456</td>\n",
       "      <td>27756</td>\n",
       "      <td>Migori</td>\n",
       "      <td>Rongo Sub County</td>\n",
       "      <td>Central Kamagambo Ward</td>\n",
       "      <td>M8rGveWTIMm</td>\n",
       "      <td>fT37q3rXQ35</td>\n",
       "      <td>fVra3Pwta0Q</td>\n",
       "      <td>M8rGveWTIMm</td>\n",
       "      <td>...</td>\n",
       "      <td>141.0</td>\n",
       "      <td>8.0</td>\n",
       "      <td>128.0</td>\n",
       "      <td>3.0</td>\n",
       "      <td>141.0</td>\n",
       "      <td>8.0</td>\n",
       "      <td>177.0</td>\n",
       "      <td>2.916718e+07</td>\n",
       "      <td>24048.227598</td>\n",
       "      <td>{\"rings\": [[[3852962.87758862, -81662.99747771...</td>\n",
       "    </tr>\n",
       "    <tr>\n",
       "      <th>3</th>\n",
       "      <td>4</td>\n",
       "      <td>1457</td>\n",
       "      <td>27179</td>\n",
       "      <td>Migori</td>\n",
       "      <td>Rongo Sub County</td>\n",
       "      <td>South Kamagambo Ward</td>\n",
       "      <td>DABObbHgPMX</td>\n",
       "      <td>fT37q3rXQ35</td>\n",
       "      <td>fVra3Pwta0Q</td>\n",
       "      <td>DABObbHgPMX</td>\n",
       "      <td>...</td>\n",
       "      <td>79.0</td>\n",
       "      <td>2.0</td>\n",
       "      <td>150.0</td>\n",
       "      <td>3.0</td>\n",
       "      <td>168.0</td>\n",
       "      <td>5.0</td>\n",
       "      <td>86.0</td>\n",
       "      <td>6.913211e+07</td>\n",
       "      <td>58027.483037</td>\n",
       "      <td>{\"rings\": [[[3853603.89628833, -97177.66497901...</td>\n",
       "    </tr>\n",
       "    <tr>\n",
       "      <th>4</th>\n",
       "      <td>5</td>\n",
       "      <td>1458</td>\n",
       "      <td>22874</td>\n",
       "      <td>Migori</td>\n",
       "      <td>Awendo Sub County</td>\n",
       "      <td>North Sakwa Ward</td>\n",
       "      <td>EmSsP2C6A3h</td>\n",
       "      <td>ka9Uv3Ckcbd</td>\n",
       "      <td>fVra3Pwta0Q</td>\n",
       "      <td>EmSsP2C6A3h</td>\n",
       "      <td>...</td>\n",
       "      <td>69.0</td>\n",
       "      <td>6.0</td>\n",
       "      <td>124.0</td>\n",
       "      <td>8.0</td>\n",
       "      <td>87.0</td>\n",
       "      <td>4.0</td>\n",
       "      <td>40.0</td>\n",
       "      <td>5.401764e+07</td>\n",
       "      <td>59102.448838</td>\n",
       "      <td>{\"rings\": [[[3846477.4187271, -83706.778568055...</td>\n",
       "    </tr>\n",
       "  </tbody>\n",
       "</table>\n",
       "<p>5 rows × 33 columns</p>\n",
       "</div>"
      ],
      "text/plain": [
       "   OBJECTID   gid  pop2009  county          subcounty                    ward  \\\n",
       "0         1   241    17431  ISIOLO  Isiolo Sub County                  WABERA   \n",
       "1         2  1455    18755  Migori   Rongo Sub County    North Kamagambo Ward   \n",
       "2         3  1456    27756  Migori   Rongo Sub County  Central Kamagambo Ward   \n",
       "3         4  1457    27179  Migori   Rongo Sub County    South Kamagambo Ward   \n",
       "4         5  1458    22874  Migori  Awendo Sub County        North Sakwa Ward   \n",
       "\n",
       "           uid        scuid         cuid organisationunitid  ...  \\\n",
       "0  rIdiIpv9fBt  I2LYLqKU6AW  bzOfj0iwfDH        rIdiIpv9fBt  ...   \n",
       "1  QC41mItjIzF  fT37q3rXQ35  fVra3Pwta0Q        QC41mItjIzF  ...   \n",
       "2  M8rGveWTIMm  fT37q3rXQ35  fVra3Pwta0Q        M8rGveWTIMm  ...   \n",
       "3  DABObbHgPMX  fT37q3rXQ35  fVra3Pwta0Q        DABObbHgPMX  ...   \n",
       "4  EmSsP2C6A3h  ka9Uv3Ckcbd  fVra3Pwta0Q        EmSsP2C6A3h  ...   \n",
       "\n",
       "   adol1519Jan_Mar_2017  adol1014Jan_Mar_2018  adol1519Jan_Mar_2018  \\\n",
       "0                 256.0                   9.0                 274.0   \n",
       "1                  59.0                   5.0                  84.0   \n",
       "2                 141.0                   8.0                 128.0   \n",
       "3                  79.0                   2.0                 150.0   \n",
       "4                  69.0                   6.0                 124.0   \n",
       "\n",
       "   adol1014Jan_Mar_2019  adol1519Jan_Mar_2019  adol1014Jan_Mar_2020  \\\n",
       "0                   1.0                 292.0                   1.0   \n",
       "1                   5.0                  51.0                   4.0   \n",
       "2                   3.0                 141.0                   8.0   \n",
       "3                   3.0                 168.0                   5.0   \n",
       "4                   8.0                  87.0                   4.0   \n",
       "\n",
       "   adol1519Jan_Mar_2020   Shape__Area  Shape__Length  \\\n",
       "0                 110.0  1.306913e+07   19901.358598   \n",
       "1                  63.0  4.651098e+07   28704.408993   \n",
       "2                 177.0  2.916718e+07   24048.227598   \n",
       "3                  86.0  6.913211e+07   58027.483037   \n",
       "4                  40.0  5.401764e+07   59102.448838   \n",
       "\n",
       "                                               SHAPE  \n",
       "0  {\"rings\": [[[4185577.21088152, 44560.871167269...  \n",
       "1  {\"rings\": [[[3851584.90949789, -72419.10958822...  \n",
       "2  {\"rings\": [[[3852962.87758862, -81662.99747771...  \n",
       "3  {\"rings\": [[[3853603.89628833, -97177.66497901...  \n",
       "4  {\"rings\": [[[3846477.4187271, -83706.778568055...  \n",
       "\n",
       "[5 rows x 33 columns]"
      ]
     },
     "execution_count": 7,
     "metadata": {},
     "output_type": "execute_result"
    }
   ],
   "source": [
    "pregnancy_data_layer = pregnancy_data.layers[0]\n",
    "pregnancy_data_sdf = pregnancy_data_layer.query().sdf\n",
    "pregnancy_data_sdf.head()"
   ]
  },
  {
   "cell_type": "code",
   "execution_count": 8,
   "metadata": {},
   "outputs": [
    {
     "data": {
      "text/plain": [
       "Index(['OBJECTID', 'gid', 'pop2009', 'county', 'subcounty', 'ward', 'uid',\n",
       "       'scuid', 'cuid', 'organisationunitid', 'adol1014Apr_Jun_2016',\n",
       "       'adol1519Apr_Jun_2016', 'adol1014Apr_Jun_2017', 'adol1519Apr_Jun_2017',\n",
       "       'adol1014Apr_Jun_2018', 'adol1519Apr_Jun_2018', 'adol1014Apr_Jun_2019',\n",
       "       'adol1519Apr_Jun_2019', 'adol1014Apr_Jun_2020', 'adol1519Apr_Jun_2020',\n",
       "       'adol1014Jan_Mar_2016', 'adol1519Jan_Mar_2016', 'adol1014Jan_Mar_2017',\n",
       "       'adol1519Jan_Mar_2017', 'adol1014Jan_Mar_2018', 'adol1519Jan_Mar_2018',\n",
       "       'adol1014Jan_Mar_2019', 'adol1519Jan_Mar_2019', 'adol1014Jan_Mar_2020',\n",
       "       'adol1519Jan_Mar_2020', 'Shape__Area', 'Shape__Length', 'SHAPE'],\n",
       "      dtype='object')"
      ]
     },
     "execution_count": 8,
     "metadata": {},
     "output_type": "execute_result"
    }
   ],
   "source": [
    "pregnancy_data_sdf.columns"
   ]
  },
  {
   "cell_type": "code",
   "execution_count": 9,
   "metadata": {},
   "outputs": [
    {
     "data": {
      "text/html": [
       "<div>\n",
       "<style scoped>\n",
       "    .dataframe tbody tr th:only-of-type {\n",
       "        vertical-align: middle;\n",
       "    }\n",
       "\n",
       "    .dataframe tbody tr th {\n",
       "        vertical-align: top;\n",
       "    }\n",
       "\n",
       "    .dataframe thead th {\n",
       "        text-align: right;\n",
       "    }\n",
       "</style>\n",
       "<table border=\"1\" class=\"dataframe\">\n",
       "  <thead>\n",
       "    <tr style=\"text-align: right;\">\n",
       "      <th></th>\n",
       "      <th>county</th>\n",
       "      <th>sum_pregnancy_data</th>\n",
       "    </tr>\n",
       "  </thead>\n",
       "  <tbody>\n",
       "    <tr>\n",
       "      <th>0</th>\n",
       "      <td>BARINGO</td>\n",
       "      <td>1268.0</td>\n",
       "    </tr>\n",
       "    <tr>\n",
       "      <th>1</th>\n",
       "      <td>Bomet</td>\n",
       "      <td>2147.0</td>\n",
       "    </tr>\n",
       "    <tr>\n",
       "      <th>2</th>\n",
       "      <td>Bungoma</td>\n",
       "      <td>3237.0</td>\n",
       "    </tr>\n",
       "    <tr>\n",
       "      <th>3</th>\n",
       "      <td>Busia</td>\n",
       "      <td>1524.0</td>\n",
       "    </tr>\n",
       "    <tr>\n",
       "      <th>4</th>\n",
       "      <td>ELGEYO-MARAKWET</td>\n",
       "      <td>929.0</td>\n",
       "    </tr>\n",
       "  </tbody>\n",
       "</table>\n",
       "</div>"
      ],
      "text/plain": [
       "            county  sum_pregnancy_data\n",
       "0          BARINGO              1268.0\n",
       "1            Bomet              2147.0\n",
       "2          Bungoma              3237.0\n",
       "3            Busia              1524.0\n",
       "4  ELGEYO-MARAKWET               929.0"
      ]
     },
     "execution_count": 9,
     "metadata": {},
     "output_type": "execute_result"
    }
   ],
   "source": [
    "sum_pregnancy_data = pregnancy_data_sdf\\\n",
    "                .groupby(['county'], as_index=False)\\\n",
    "                .agg(sum_pregnancy_data=('adol1519Jan_Mar_2020',np.sum))\n",
    "sum_pregnancy_data.head()"
   ]
  },
  {
   "cell_type": "code",
   "execution_count": 11,
   "metadata": {},
   "outputs": [
    {
     "data": {
      "text/plain": [
       "<AxesSubplot:title={'center':'number of pregnncy'}, xlabel='sum_pregnancy_data', ylabel='county'>"
      ]
     },
     "execution_count": 11,
     "metadata": {},
     "output_type": "execute_result"
    },
    {
     "data": {
      "image/png": "[encoded data removed]",
      "text/plain": [
       "<Figure size 720x720 with 1 Axes>"
      ]
     },
     "metadata": {
      "needs_background": "light"
     },
     "output_type": "display_data"
    }
   ],
   "source": [
    "plt.figure(figsize=(10,10))\n",
    "plt.title('number of pregnncy')\n",
    "sns.barplot(x='sum_pregnancy_data', y='county', data=sum_pregnancy_data)"
   ]
  },
  {
   "cell_type": "markdown",
   "metadata": {},
   "source": [
    "the biggest demand of pregnancy is Nairobi however we can't conclude with this. we need to know the the precising demand by getting the ratio of the pregnancy to the health facilties "
   ]
  },
  {
   "cell_type": "code",
   "execution_count": 12,
   "metadata": {},
   "outputs": [],
   "source": [
    "def merge(data1,data2,column1,column2):\n",
    "    \n",
    "    \"\"\"this function will help you to combine two table together\n",
    "    and delete the similar column where: \n",
    "    * data1 is the name of the first table \n",
    "    * data2 is the name of the second table\n",
    "    * column1 is the name of the column to join in data1\n",
    "    * column2 is the name of the column to join in data2\n",
    "    \"\"\"\n",
    "    \n",
    "    name = data1.merge(data2, left_on = column1, right_on = column2)\n",
    "    name = name.drop(column2, axis = 1)\n",
    "    return name"
   ]
  },
  {
   "cell_type": "code",
   "execution_count": 15,
   "metadata": {},
   "outputs": [],
   "source": [
    "best_county = merge(sum_pregnancy_data,count_health_facilities, 'county', 'NAME_2')"
   ]
  },
  {
   "cell_type": "code",
   "execution_count": 19,
   "metadata": {},
   "outputs": [
    {
     "data": {
      "text/html": [
       "<div>\n",
       "<style scoped>\n",
       "    .dataframe tbody tr th:only-of-type {\n",
       "        vertical-align: middle;\n",
       "    }\n",
       "\n",
       "    .dataframe tbody tr th {\n",
       "        vertical-align: top;\n",
       "    }\n",
       "\n",
       "    .dataframe thead th {\n",
       "        text-align: right;\n",
       "    }\n",
       "</style>\n",
       "<table border=\"1\" class=\"dataframe\">\n",
       "  <thead>\n",
       "    <tr style=\"text-align: right;\">\n",
       "      <th></th>\n",
       "      <th>county</th>\n",
       "      <th>sum_pregnancy_data</th>\n",
       "      <th>count_health_facilities</th>\n",
       "      <th>pregnancy_health_ratio</th>\n",
       "    </tr>\n",
       "  </thead>\n",
       "  <tbody>\n",
       "    <tr>\n",
       "      <th>0</th>\n",
       "      <td>Bungoma</td>\n",
       "      <td>3237.0</td>\n",
       "      <td>3</td>\n",
       "      <td>1079.000000</td>\n",
       "    </tr>\n",
       "    <tr>\n",
       "      <th>1</th>\n",
       "      <td>Busia</td>\n",
       "      <td>1524.0</td>\n",
       "      <td>1</td>\n",
       "      <td>1524.000000</td>\n",
       "    </tr>\n",
       "    <tr>\n",
       "      <th>2</th>\n",
       "      <td>Homa Bay</td>\n",
       "      <td>3340.0</td>\n",
       "      <td>8</td>\n",
       "      <td>417.500000</td>\n",
       "    </tr>\n",
       "    <tr>\n",
       "      <th>3</th>\n",
       "      <td>Kakamega</td>\n",
       "      <td>3807.0</td>\n",
       "      <td>6</td>\n",
       "      <td>634.500000</td>\n",
       "    </tr>\n",
       "    <tr>\n",
       "      <th>4</th>\n",
       "      <td>Kiambu</td>\n",
       "      <td>2954.0</td>\n",
       "      <td>27</td>\n",
       "      <td>109.407407</td>\n",
       "    </tr>\n",
       "  </tbody>\n",
       "</table>\n",
       "</div>"
      ],
      "text/plain": [
       "     county  sum_pregnancy_data  count_health_facilities  \\\n",
       "0   Bungoma              3237.0                        3   \n",
       "1     Busia              1524.0                        1   \n",
       "2  Homa Bay              3340.0                        8   \n",
       "3  Kakamega              3807.0                        6   \n",
       "4    Kiambu              2954.0                       27   \n",
       "\n",
       "   pregnancy_health_ratio  \n",
       "0             1079.000000  \n",
       "1             1524.000000  \n",
       "2              417.500000  \n",
       "3              634.500000  \n",
       "4              109.407407  "
      ]
     },
     "execution_count": 19,
     "metadata": {},
     "output_type": "execute_result"
    }
   ],
   "source": [
    "pregnancy_health_ratio = best_county['sum_pregnancy_data']/best_county['count_health_facilities']\n",
    "best_county['pregnancy_health_ratio'] = pregnancy_health_ratio\n",
    "best_county.head()"
   ]
  },
  {
   "cell_type": "code",
   "execution_count": 22,
   "metadata": {},
   "outputs": [
    {
     "data": {
      "text/plain": [
       "<AxesSubplot:title={'center':'best_county'}, xlabel='pregnancy_health_ratio', ylabel='county'>"
      ]
     },
     "execution_count": 22,
     "metadata": {},
     "output_type": "execute_result"
    },
    {
     "data": {
      "image/png": "[encoded data removed]",
      "text/plain": [
       "<Figure size 576x720 with 1 Axes>"
      ]
     },
     "metadata": {
      "needs_background": "light"
     },
     "output_type": "display_data"
    }
   ],
   "source": [
    "best_county = best_county.sort_values(by='pregnancy_health_ratio', ascending = 0)\n",
    "plt.figure(figsize=(8,10))\n",
    "plt.title('best_county')\n",
    "sns.barplot(x='pregnancy_health_ratio', y='county', data=best_county)"
   ]
  },
  {
   "cell_type": "markdown",
   "metadata": {},
   "source": [
    "### As we can all see the best county for the siting the next health center is Busia"
   ]
  }
 ],
 "metadata": {
  "esriNotebookRuntime": {
   "notebookRuntimeName": "ArcGIS Notebook Python 3 Advanced",
   "notebookRuntimeVersion": "7.0"
  },
  "kernelspec": {
   "display_name": "Python 3 (ipykernel)",
   "language": "python",
   "name": "python3"
  },
  "language_info": {
   "codemirror_mode": {
    "name": "ipython",
    "version": 3
   },
   "file_extension": ".py",
   "mimetype": "text/x-python",
   "name": "python",
   "nbconvert_exporter": "python",
   "pygments_lexer": "ipython3",
   "version": "3.9.11"
  }
 },
 "nbformat": 4,
 "nbformat_minor": 2
}
